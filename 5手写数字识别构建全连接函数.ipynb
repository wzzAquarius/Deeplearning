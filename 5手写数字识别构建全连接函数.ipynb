{
 "cells": [
  {
   "cell_type": "code",
   "execution_count": 1,
   "metadata": {
    "collapsed": false
   },
   "outputs": [
    {
     "name": "stdout",
     "output_type": "stream",
     "text": [
      "Extracting G:/dldata/MNIST_data/train-images-idx3-ubyte.gz\n",
      "Extracting G:/dldata/MNIST_data/train-labels-idx1-ubyte.gz\n",
      "Extracting G:/dldata/MNIST_data/t10k-images-idx3-ubyte.gz\n",
      "Extracting G:/dldata/MNIST_data/t10k-labels-idx1-ubyte.gz\n"
     ]
    }
   ],
   "source": [
    "import tensorflow as tf\n",
    "import tensorflow.examples.tutorials.mnist.input_data as input_data\n",
    "\n",
    "mnist = input_data.read_data_sets(\"G:/dldata/MNIST_data/\",one_hot=True)"
   ]
  },
  {
   "cell_type": "code",
   "execution_count": 20,
   "metadata": {
    "collapsed": true
   },
   "outputs": [],
   "source": [
    "#定义全连接层函数\n",
    "def fcn_layer(inputs,             #输入数据\n",
    "              input_dim,          #输入神经元数量\n",
    "              output_dim,         #输出神经元数量\n",
    "              activation=None):   #激活函数\n",
    "    W = tf.Variable(tf.truncated_normal([input_dim, output_dim], stddev=0.1)) #以截断正态分布的随机数初始化W\n",
    "    b = tf.Variable(tf.zeros(output_dim))  #以0初始化b\n",
    "    \n",
    "    XWb = tf.matmul(inputs, W) + b  #j建立表达式：inputs * W + b\n",
    "    \n",
    "    if activation is None:  #默认不使用激活函数\n",
    "        outputs = XWb    #若传入激活函数，则对输出结果进行变换\n",
    "    else:\n",
    "        outputs = activation(XWb)\n",
    "    return outputs"
   ]
  },
  {
   "cell_type": "code",
   "execution_count": 21,
   "metadata": {
    "collapsed": false
   },
   "outputs": [],
   "source": [
    "#构建输入层\n",
    "x = tf.placeholder(tf.float32, [None, 784], name=\"X\")"
   ]
  },
  {
   "cell_type": "code",
   "execution_count": 22,
   "metadata": {
    "collapsed": false
   },
   "outputs": [],
   "source": [
    "###构建三隐层模型###\n",
    "\n",
    "H1_NN = 256\n",
    "H2_NN = 64\n",
    "H3_NN = 32\n",
    "\n",
    "#构建隐藏层1\n",
    "h1 = fcn_layer(inputs = x,\n",
    "               input_dim = 784,\n",
    "               output_dim = H1_NN,\n",
    "               activation = tf.nn.relu)\n",
    "#构建隐藏层2\n",
    "h2 = fcn_layer(inputs = h1,\n",
    "               input_dim = H1_NN,\n",
    "               output_dim = H2_NN,\n",
    "               activation = tf.nn.relu)\n",
    "#构建隐藏层3\n",
    "h3 = fcn_layer(inputs = h2,\n",
    "               input_dim = H2_NN,\n",
    "               output_dim = H3_NN,\n",
    "               activation = tf.nn.relu)\n",
    "#构建输出层\n",
    "forward = fcn_layer(inputs=h3,\n",
    "                    input_dim=H3_NN,\n",
    "                    output_dim=10,\n",
    "                    activation=None)\n",
    "pred = tf.nn.softmax(forward)"
   ]
  },
  {
   "cell_type": "code",
   "execution_count": 23,
   "metadata": {
    "collapsed": true
   },
   "outputs": [],
   "source": [
    "#定义标签数据占位符\n",
    "y = tf.placeholder(tf.float32, [None, 10], name=\"Y\")"
   ]
  },
  {
   "cell_type": "code",
   "execution_count": 24,
   "metadata": {
    "collapsed": true
   },
   "outputs": [],
   "source": [
    "loss_function = tf.reduce_mean(tf.nn.softmax_cross_entropy_with_logits(logits=forward, labels=y))"
   ]
  },
  {
   "cell_type": "code",
   "execution_count": 25,
   "metadata": {
    "collapsed": true
   },
   "outputs": [],
   "source": [
    "train_epochs = 40\n",
    "batch_size = 50\n",
    "total_batch = int(mnist.train.num_examples/batch_size)\n",
    "display_step = 1\n",
    "learning_rate = 0.01"
   ]
  },
  {
   "cell_type": "code",
   "execution_count": 26,
   "metadata": {
    "collapsed": true
   },
   "outputs": [],
   "source": [
    "optimizer = tf.train.AdamOptimizer(learning_rate).minimize(loss_function)"
   ]
  },
  {
   "cell_type": "code",
   "execution_count": 27,
   "metadata": {
    "collapsed": true
   },
   "outputs": [],
   "source": [
    "correct_prediction = tf.equal(tf.arg_max(pred, 1), tf.arg_max(y, 1))\n",
    "accuracy = tf.reduce_mean(tf.cast(correct_prediction,tf.float32))"
   ]
  },
  {
   "cell_type": "code",
   "execution_count": 29,
   "metadata": {
    "collapsed": false
   },
   "outputs": [
    {
     "name": "stdout",
     "output_type": "stream",
     "text": [
      "Train Epoch: 01 loss= 0.201998189 Accuracy= 0.9448\n",
      "Train Epoch: 02 loss= 0.133808941 Accuracy= 0.9654\n",
      "Train Epoch: 03 loss= 0.181647480 Accuracy= 0.9652\n",
      "Train Epoch: 04 loss= 0.129943341 Accuracy= 0.9708\n",
      "Train Epoch: 05 loss= 0.143374279 Accuracy= 0.9654\n",
      "Train Epoch: 06 loss= 0.162444949 Accuracy= 0.9646\n",
      "Train Epoch: 07 loss= 0.129411206 Accuracy= 0.9738\n",
      "Train Epoch: 08 loss= 0.118525147 Accuracy= 0.972\n",
      "Train Epoch: 09 loss= 0.138259962 Accuracy= 0.9734\n",
      "Train Epoch: 10 loss= 0.118381932 Accuracy= 0.9758\n",
      "Train Epoch: 11 loss= 0.216929048 Accuracy= 0.962\n",
      "Train Epoch: 12 loss= 0.125674903 Accuracy= 0.973\n",
      "Train Epoch: 13 loss= 0.198011726 Accuracy= 0.9712\n",
      "Train Epoch: 14 loss= 0.151849762 Accuracy= 0.9754\n",
      "Train Epoch: 15 loss= 0.113647312 Accuracy= 0.9776\n",
      "Train Epoch: 16 loss= 0.137428448 Accuracy= 0.9748\n",
      "Train Epoch: 17 loss= 0.163941056 Accuracy= 0.973\n",
      "Train Epoch: 18 loss= 0.159470037 Accuracy= 0.9772\n",
      "Train Epoch: 19 loss= 0.236290276 Accuracy= 0.973\n",
      "Train Epoch: 20 loss= 0.152355537 Accuracy= 0.9746\n",
      "Train Epoch: 21 loss= 0.153233305 Accuracy= 0.9756\n",
      "Train Epoch: 22 loss= 0.181632400 Accuracy= 0.9742\n",
      "Train Epoch: 23 loss= 0.181004509 Accuracy= 0.976\n",
      "Train Epoch: 24 loss= 0.158463746 Accuracy= 0.9772\n",
      "Train Epoch: 25 loss= 0.138265014 Accuracy= 0.9782\n",
      "Train Epoch: 26 loss= 0.222318366 Accuracy= 0.973\n",
      "Train Epoch: 27 loss= 0.179763496 Accuracy= 0.975\n",
      "Train Epoch: 28 loss= 0.201496944 Accuracy= 0.9728\n",
      "Train Epoch: 29 loss= 0.171730056 Accuracy= 0.9742\n",
      "Train Epoch: 30 loss= 0.190792039 Accuracy= 0.9714\n",
      "Train Epoch: 31 loss= 0.300294906 Accuracy= 0.9732\n",
      "Train Epoch: 32 loss= 0.224515945 Accuracy= 0.9766\n",
      "Train Epoch: 33 loss= 0.274111778 Accuracy= 0.9748\n",
      "Train Epoch: 34 loss= 0.192901269 Accuracy= 0.976\n",
      "Train Epoch: 35 loss= 0.207424834 Accuracy= 0.977\n",
      "Train Epoch: 36 loss= 0.219265893 Accuracy= 0.9758\n",
      "Train Epoch: 37 loss= 0.216047674 Accuracy= 0.9716\n",
      "Train Epoch: 38 loss= 0.340386897 Accuracy= 0.9654\n",
      "Train Epoch: 39 loss= 0.196849063 Accuracy= 0.9738\n",
      "Train Epoch: 40 loss= 0.236845270 Accuracy= 0.9764\n",
      "Train Finished takes: 145.04\n"
     ]
    }
   ],
   "source": [
    "from time import time\n",
    "startTime = time()\n",
    "\n",
    "sess = tf.Session()\n",
    "sess.run(tf.global_variables_initializer())\n",
    "\n",
    "for epoch in range(train_epochs):\n",
    "    for batch in range(total_batch):\n",
    "        xs,ys = mnist.train.next_batch(batch_size)\n",
    "        sess.run(optimizer, feed_dict={x:xs, y:ys})\n",
    "        \n",
    "    loss,acc = sess.run([loss_function,accuracy],\n",
    "                        feed_dict={x:mnist.validation.images,\n",
    "                                   y:mnist.validation.labels})\n",
    "    if (epoch+1) % display_step == 0:\n",
    "        print(\"Train Epoch:\", '%02d'% (epoch+1), \"loss=\", \"{:.9f}\".format(loss),\"Accuracy=\",\"{:.4}\".format(acc))\n",
    "\n",
    "duration = time() - startTime\n",
    "print(\"Train Finished takes:\",\"{:.2f}\".format(duration))"
   ]
  }
 ],
 "metadata": {
  "anaconda-cloud": {},
  "kernelspec": {
   "display_name": "Python [conda root]",
   "language": "python",
   "name": "conda-root-py"
  },
  "language_info": {
   "codemirror_mode": {
    "name": "ipython",
    "version": 3
   },
   "file_extension": ".py",
   "mimetype": "text/x-python",
   "name": "python",
   "nbconvert_exporter": "python",
   "pygments_lexer": "ipython3",
   "version": "3.5.2"
  }
 },
 "nbformat": 4,
 "nbformat_minor": 1
}
