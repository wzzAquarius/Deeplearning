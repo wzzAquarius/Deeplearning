{
 "cells": [
  {
   "cell_type": "code",
   "execution_count": 15,
   "metadata": {
    "collapsed": true
   },
   "outputs": [],
   "source": [
    "import tensorflow as tf\n",
    "import tensorflow.examples.tutorials.mnist.input_data as input_data\n",
    "import numpy as np"
   ]
  },
  {
   "cell_type": "code",
   "execution_count": 2,
   "metadata": {
    "collapsed": false
   },
   "outputs": [
    {
     "name": "stdout",
     "output_type": "stream",
     "text": [
      "Extracting G:/dldata/MNIST_data/train-images-idx3-ubyte.gz\n",
      "Extracting G:/dldata/MNIST_data/train-labels-idx1-ubyte.gz\n",
      "Extracting G:/dldata/MNIST_data/t10k-images-idx3-ubyte.gz\n",
      "Extracting G:/dldata/MNIST_data/t10k-labels-idx1-ubyte.gz\n"
     ]
    }
   ],
   "source": [
    "mnist = input_data.read_data_sets(\"G:/dldata/MNIST_data/\",one_hot=True)"
   ]
  },
  {
   "cell_type": "code",
   "execution_count": 22,
   "metadata": {
    "collapsed": true
   },
   "outputs": [],
   "source": [
    "x = tf.placeholder(tf.float32, [None, 784], name=\"X\")\n",
    "y = tf.placeholder(tf.float32, [None, 10], name=\"Y\") "
   ]
  },
  {
   "cell_type": "code",
   "execution_count": 4,
   "metadata": {
    "collapsed": true
   },
   "outputs": [],
   "source": [
    "#构建隐藏层\n",
    "H1_NN = 256  #隐藏层神经元数量\n",
    "\n",
    "W1 = tf.Variable(tf.random_normal([784, H1_NN]))\n",
    "b1 = tf.Variable(tf.zeros([H1_NN]))\n",
    "\n",
    "Y1 = tf.nn.relu(tf.matmul(x, W1) + b1) #计算激活函数，将大于0的保持不变，小于0的数置为0。"
   ]
  },
  {
   "cell_type": "code",
   "execution_count": 5,
   "metadata": {
    "collapsed": true
   },
   "outputs": [],
   "source": [
    "#构建输出层\n",
    "W2 = tf.Variable(tf.random_normal([H1_NN, 10]))\n",
    "b2 = tf.Variable(tf.zeros([10]))\n",
    "\n",
    "forward = tf.matmul(Y1, W2) + b2\n",
    "pred = tf.nn.softmax(forward)"
   ]
  },
  {
   "cell_type": "code",
   "execution_count": 6,
   "metadata": {
    "collapsed": false
   },
   "outputs": [],
   "source": [
    "#loss_function = tf.reduce_mean(-tf.reduce_sum(y*tf.log(pred),reduction_indices=1))为了防止pred等于0，选择下面计算损失\n",
    "\n",
    "loss_function = tf.reduce_mean(tf.nn.softmax_cross_entropy_with_logits(logits=forward, labels=y))"
   ]
  },
  {
   "cell_type": "code",
   "execution_count": 7,
   "metadata": {
    "collapsed": true
   },
   "outputs": [],
   "source": [
    "train_epochs = 40\n",
    "batch_size = 50\n",
    "total_batch = int(mnist.train.num_examples/batch_size)\n",
    "display_step = 1\n",
    "learning_rate = 0.01"
   ]
  },
  {
   "cell_type": "code",
   "execution_count": 9,
   "metadata": {
    "collapsed": false
   },
   "outputs": [],
   "source": [
    "optimizer = tf.train.AdamOptimizer(learning_rate).minimize(loss_function)"
   ]
  },
  {
   "cell_type": "code",
   "execution_count": 10,
   "metadata": {
    "collapsed": false
   },
   "outputs": [],
   "source": [
    "correct_prediction = tf.equal(tf.arg_max(pred, 1), tf.arg_max(y, 1))\n",
    "accuracy = tf.reduce_mean(tf.cast(correct_prediction,tf.float32))"
   ]
  },
  {
   "cell_type": "code",
   "execution_count": 11,
   "metadata": {
    "collapsed": true
   },
   "outputs": [],
   "source": [
    "#记录训练开始时间\n",
    "from time import time\n",
    "startTime = time()\n",
    "\n",
    "sess = tf.Session()\n",
    "sess.run(tf.global_variables_initializer())"
   ]
  },
  {
   "cell_type": "code",
   "execution_count": 17,
   "metadata": {
    "collapsed": false
   },
   "outputs": [
    {
     "name": "stdout",
     "output_type": "stream",
     "text": [
      "Train Epoch: 01 loss= 1.003310800 Accuracy= 0.974\n",
      "Train Epoch: 02 loss= 1.056675673 Accuracy= 0.9732\n",
      "Train Epoch: 03 loss= 1.102190971 Accuracy= 0.9722\n",
      "Train Epoch: 04 loss= 1.029387832 Accuracy= 0.9754\n",
      "Train Epoch: 05 loss= 1.115864992 Accuracy= 0.9748\n",
      "Train Epoch: 06 loss= 1.329874277 Accuracy= 0.9716\n",
      "Train Epoch: 07 loss= 1.335100055 Accuracy= 0.9738\n",
      "Train Epoch: 08 loss= 1.121370077 Accuracy= 0.9774\n",
      "Train Epoch: 09 loss= 1.264797211 Accuracy= 0.9716\n",
      "Train Epoch: 10 loss= 1.269940376 Accuracy= 0.9762\n",
      "Train Epoch: 11 loss= 1.212257504 Accuracy= 0.9746\n",
      "Train Epoch: 12 loss= 1.226554871 Accuracy= 0.977\n",
      "Train Epoch: 13 loss= 1.169557214 Accuracy= 0.9764\n",
      "Train Epoch: 14 loss= 1.320436120 Accuracy= 0.9776\n",
      "Train Epoch: 15 loss= 1.419627428 Accuracy= 0.9756\n",
      "Train Epoch: 16 loss= 1.255393863 Accuracy= 0.9754\n",
      "Train Epoch: 17 loss= 1.502233505 Accuracy= 0.9734\n",
      "Train Epoch: 18 loss= 1.213262677 Accuracy= 0.9798\n",
      "Train Epoch: 19 loss= 1.494698882 Accuracy= 0.9764\n",
      "Train Epoch: 20 loss= 1.465889096 Accuracy= 0.9776\n",
      "Train Epoch: 21 loss= 1.609328032 Accuracy= 0.9774\n",
      "Train Epoch: 22 loss= 1.789306879 Accuracy= 0.9746\n",
      "Train Epoch: 23 loss= 1.513052702 Accuracy= 0.976\n",
      "Train Epoch: 24 loss= 1.544024467 Accuracy= 0.9766\n",
      "Train Epoch: 25 loss= 1.601962924 Accuracy= 0.9784\n",
      "Train Epoch: 26 loss= 1.755257964 Accuracy= 0.976\n",
      "Train Epoch: 27 loss= 1.541415572 Accuracy= 0.9776\n",
      "Train Epoch: 28 loss= 1.695479512 Accuracy= 0.9768\n",
      "Train Epoch: 29 loss= 1.637051702 Accuracy= 0.9784\n",
      "Train Epoch: 30 loss= 1.609861374 Accuracy= 0.9802\n",
      "Train Epoch: 31 loss= 1.583235979 Accuracy= 0.98\n",
      "Train Epoch: 32 loss= 1.966773868 Accuracy= 0.9748\n",
      "Train Epoch: 33 loss= 1.673508763 Accuracy= 0.9788\n",
      "Train Epoch: 34 loss= 1.941271544 Accuracy= 0.9768\n",
      "Train Epoch: 35 loss= 1.804833412 Accuracy= 0.979\n",
      "Train Epoch: 36 loss= 2.091783524 Accuracy= 0.9778\n",
      "Train Epoch: 37 loss= 2.067497969 Accuracy= 0.9722\n",
      "Train Epoch: 38 loss= 2.099135399 Accuracy= 0.9766\n",
      "Train Epoch: 39 loss= 1.921862364 Accuracy= 0.9792\n",
      "Train Epoch: 40 loss= 2.342016697 Accuracy= 0.9756\n",
      "Train Finished takes: 881.18\n"
     ]
    }
   ],
   "source": [
    "for epoch in range(train_epochs):\n",
    "    for batch in range(total_batch):\n",
    "        xs,ys = mnist.train.next_batch(batch_size)\n",
    "        sess.run(optimizer, feed_dict={x:xs, y:ys})\n",
    "    loss,acc = sess.run([loss_function,accuracy],\n",
    "                        feed_dict={x:mnist.validation.images,\n",
    "                                   y:mnist.validation.labels})\n",
    "    if (epoch+1) % display_step == 0:\n",
    "        print(\"Train Epoch:\", '%02d'% (epoch+1), \"loss=\", \"{:.9f}\".format(loss),\"Accuracy=\",\"{:.4}\".format(acc))\n",
    "\n",
    "duration = time() - startTime\n",
    "print(\"Train Finished takes:\",\"{:.2f}\".format(duration))"
   ]
  },
  {
   "cell_type": "code",
   "execution_count": 13,
   "metadata": {
    "collapsed": false
   },
   "outputs": [
    {
     "name": "stdout",
     "output_type": "stream",
     "text": [
      "Test Accuracy: 0.9679\n"
     ]
    }
   ],
   "source": [
    "#进行测试\n",
    "accu_test = sess.run(accuracy,feed_dict={x: mnist.test.images, y: mnist.test.labels})\n",
    "print(\"Test Accuracy:\",accu_test)"
   ]
  },
  {
   "cell_type": "code",
   "execution_count": 14,
   "metadata": {
    "collapsed": false
   },
   "outputs": [
    {
     "data": {
      "text/plain": [
       "array([7, 2, 1, 0, 4, 1, 4, 9, 5, 9], dtype=int64)"
      ]
     },
     "execution_count": 14,
     "metadata": {},
     "output_type": "execute_result"
    }
   ],
   "source": [
    "#进行预测\n",
    "prediction_result = sess.run(tf.argmax(pred, 1), feed_dict={x: mnist.test.images})\n",
    "\n",
    "prediction_result[0:10]  #查看预测结果中的前十项"
   ]
  },
  {
   "cell_type": "code",
   "execution_count": 16,
   "metadata": {
    "collapsed": false
   },
   "outputs": [
    {
     "name": "stdout",
     "output_type": "stream",
     "text": [
      "[ True  True  True ...,  True  True  True]\n",
      "[18, 125, 149, 151, 175, 217, 247, 259, 264, 290, 340, 347, 381, 411, 412, 425, 445, 447, 495, 515, 552, 578, 619, 646, 674, 691, 720, 726, 844, 947, 951, 965, 1003, 1014, 1044, 1112, 1173, 1182, 1194, 1206, 1226, 1232, 1242, 1247, 1253, 1260, 1289, 1299, 1319, 1326, 1364, 1393, 1395, 1403, 1425, 1433, 1441, 1466, 1467, 1494, 1500, 1522, 1523, 1530, 1543, 1549, 1591, 1611, 1641, 1678, 1716, 1721, 1754, 1782, 1800, 1809, 1850, 1901, 1941, 1968, 1984, 2004, 2016, 2028, 2029, 2040, 2070, 2093, 2098, 2113, 2118, 2129, 2135, 2162, 2182, 2185, 2272, 2293, 2325, 2369, 2387, 2398, 2406, 2414, 2488, 2578, 2597, 2607, 2648, 2654, 2720, 2730, 2750, 2810, 2823, 2829, 2863, 2896, 2921, 2927, 2939, 2953, 2995, 3012, 3030, 3073, 3102, 3117, 3225, 3284, 3289, 3330, 3384, 3405, 3422, 3427, 3475, 3476, 3503, 3520, 3558, 3559, 3597, 3601, 3681, 3688, 3702, 3762, 3767, 3776, 3780, 3808, 3811, 3831, 3850, 3853, 3869, 3893, 3906, 3941, 3951, 3968, 3976, 3984, 3985, 4002, 4007, 4078, 4140, 4163, 4176, 4199, 4201, 4205, 4248, 4259, 4289, 4306, 4349, 4374, 4405, 4425, 4433, 4437, 4443, 4477, 4497, 4534, 4547, 4567, 4601, 4630, 4635, 4643, 4671, 4690, 4699, 4731, 4735, 4740, 4761, 4763, 4823, 4837, 4861, 4874, 4956, 4966, 5046, 5067, 5086, 5183, 5199, 5246, 5331, 5409, 5457, 5519, 5600, 5634, 5642, 5654, 5655, 5913, 5936, 5937, 5955, 5973, 5989, 5997, 6053, 6091, 6165, 6166, 6173, 6505, 6555, 6559, 6560, 6571, 6576, 6597, 6598, 6599, 6603, 6625, 6651, 6755, 6783, 6847, 7094, 7121, 7200, 7216, 7259, 7511, 7529, 7565, 7783, 7797, 7849, 7886, 7893, 7905, 7928, 8010, 8030, 8062, 8091, 8094, 8246, 8279, 8322, 8325, 8339, 8376, 8416, 8502, 8527, 8530, 8607, 8952, 9009, 9015, 9019, 9024, 9045, 9071, 9112, 9280, 9505, 9535, 9538, 9540, 9587, 9634, 9664, 9669, 9679, 9692, 9700, 9719, 9729, 9742, 9745, 9749, 9762, 9764, 9768, 9770, 9779, 9792, 9808, 9832, 9858, 9862, 9879, 9888, 9904, 9941, 9982] 321\n"
     ]
    }
   ],
   "source": [
    "#找出预测错误\n",
    "compare_lists = prediction_result==np.argmax(mnist.test.labels, 1)\n",
    "print(compare_lists)\n",
    "\n",
    "err_lists = [i for i in range(len(compare_lists)) if compare_lists[i]==False]\n",
    "print(err_lists, len(err_lists))"
   ]
  },
  {
   "cell_type": "code",
   "execution_count": 18,
   "metadata": {
    "collapsed": true
   },
   "outputs": [],
   "source": [
    "#定义一个输出错误分类的函数\n",
    "def print_predict_errs(labels, prediction):\n",
    "    count = 0\n",
    "    compare_lists = (prediction==np.argmax(labels, 1))\n",
    "    err_lists = [i for i in range(len(compare_lists)) if compare_lists[i]==False]\n",
    "    for x in err_lists:\n",
    "        print(\"index=\"+str(x)+\n",
    "              \"标签值=\",np.argmax(labels[x]),\n",
    "              \"预测值=\",prediction[x])\n",
    "        count = count + 1\n",
    "    print(\"总计：\"+str(count))"
   ]
  },
  {
   "cell_type": "code",
   "execution_count": 19,
   "metadata": {
    "collapsed": false
   },
   "outputs": [
    {
     "name": "stdout",
     "output_type": "stream",
     "text": [
      "index=18标签值= 3 预测值= 5\n",
      "index=125标签值= 9 预测值= 4\n",
      "index=149标签值= 2 预测值= 9\n",
      "index=151标签值= 9 预测值= 2\n",
      "index=175标签值= 7 预测值= 9\n",
      "index=217标签值= 6 预测值= 8\n",
      "index=247标签值= 4 预测值= 2\n",
      "index=259标签值= 6 预测值= 0\n",
      "index=264标签值= 9 预测值= 4\n",
      "index=290标签值= 8 预测值= 4\n",
      "index=340标签值= 5 预测值= 3\n",
      "index=347标签值= 5 预测值= 3\n",
      "index=381标签值= 3 预测值= 7\n",
      "index=411标签值= 7 预测值= 9\n",
      "index=412标签值= 5 预测值= 3\n",
      "index=425标签值= 4 预测值= 6\n",
      "index=445标签值= 6 预测值= 0\n",
      "index=447标签值= 4 预测值= 9\n",
      "index=495标签值= 8 预测值= 0\n",
      "index=515标签值= 3 预测值= 8\n",
      "index=552标签值= 0 预测值= 9\n",
      "index=578标签值= 3 预测值= 2\n",
      "index=619标签值= 1 预测值= 4\n",
      "index=646标签值= 2 预测值= 6\n",
      "index=674标签值= 5 预测值= 3\n",
      "index=691标签值= 8 预测值= 7\n",
      "index=720标签值= 5 预测值= 8\n",
      "index=726标签值= 7 预测值= 4\n",
      "index=844标签值= 8 预测值= 7\n",
      "index=947标签值= 8 预测值= 9\n",
      "index=951标签值= 5 预测值= 4\n",
      "index=965标签值= 6 预测值= 0\n",
      "index=1003标签值= 5 预测值= 3\n",
      "index=1014标签值= 6 预测值= 5\n",
      "index=1044标签值= 6 预测值= 8\n",
      "index=1112标签值= 4 预测值= 6\n",
      "index=1173标签值= 7 预测值= 9\n",
      "index=1182标签值= 6 预测值= 5\n",
      "index=1194标签值= 7 预测值= 8\n",
      "index=1206标签值= 7 预测值= 2\n",
      "index=1226标签值= 7 预测值= 2\n",
      "index=1232标签值= 9 预测值= 4\n",
      "index=1242标签值= 4 预测值= 9\n",
      "index=1247标签值= 9 预测值= 3\n",
      "index=1253标签值= 4 预测值= 6\n",
      "index=1260标签值= 7 预测值= 1\n",
      "index=1289标签值= 5 预测值= 8\n",
      "index=1299标签值= 5 预测值= 7\n",
      "index=1319标签值= 8 预测值= 3\n",
      "index=1326标签值= 7 预测值= 2\n",
      "index=1364标签值= 8 预测值= 2\n",
      "index=1393标签值= 5 预测值= 3\n",
      "index=1395标签值= 2 预测值= 8\n",
      "index=1403标签值= 1 预测值= 8\n",
      "index=1425标签值= 8 预测值= 4\n",
      "index=1433标签值= 8 预测值= 4\n",
      "index=1441标签值= 8 预测值= 2\n",
      "index=1466标签值= 5 预测值= 3\n",
      "index=1467标签值= 5 预测值= 3\n",
      "index=1494标签值= 7 预测值= 9\n",
      "index=1500标签值= 7 预测值= 4\n",
      "index=1522标签值= 7 预测值= 9\n",
      "index=1523标签值= 8 预测值= 6\n",
      "index=1530标签值= 8 预测值= 7\n",
      "index=1543标签值= 7 预测值= 9\n",
      "index=1549标签值= 4 预测值= 2\n",
      "index=1591标签值= 3 预测值= 8\n",
      "index=1611标签值= 3 预测值= 1\n",
      "index=1641标签值= 5 预测值= 7\n",
      "index=1678标签值= 2 预测值= 7\n",
      "index=1716标签值= 7 预测值= 9\n",
      "index=1721标签值= 7 预测值= 4\n",
      "index=1754标签值= 7 预测值= 2\n",
      "index=1782标签值= 8 预测值= 4\n",
      "index=1800标签值= 6 预测值= 4\n",
      "index=1809标签值= 7 预测值= 9\n",
      "index=1850标签值= 8 预测值= 0\n",
      "index=1901标签值= 9 预测值= 4\n",
      "index=1941标签值= 7 预测值= 8\n",
      "index=1968标签值= 8 预测值= 4\n",
      "index=1984标签值= 2 预测值= 0\n",
      "index=2004标签值= 8 预测值= 3\n",
      "index=2016标签值= 7 预测值= 2\n",
      "index=2028标签值= 7 预测值= 8\n",
      "index=2029标签值= 5 预测值= 6\n",
      "index=2040标签值= 5 预测值= 4\n",
      "index=2070标签值= 7 预测值= 4\n",
      "index=2093标签值= 8 预测值= 1\n",
      "index=2098标签值= 2 预测值= 0\n",
      "index=2113标签值= 5 预测值= 3\n",
      "index=2118标签值= 6 预测值= 0\n",
      "index=2129标签值= 9 预测值= 4\n",
      "index=2135标签值= 6 预测值= 1\n",
      "index=2162标签值= 5 预测值= 0\n",
      "index=2182标签值= 1 预测值= 2\n",
      "index=2185标签值= 0 预测值= 8\n",
      "index=2272标签值= 8 预测值= 0\n",
      "index=2293标签值= 9 预测值= 0\n",
      "index=2325标签值= 7 预测值= 8\n",
      "index=2369标签值= 5 预测值= 8\n",
      "index=2387标签值= 9 预测值= 1\n",
      "index=2398标签值= 1 预测值= 4\n",
      "index=2406标签值= 9 预测值= 8\n",
      "index=2414标签值= 9 预测值= 4\n",
      "index=2488标签值= 2 预测值= 4\n",
      "index=2578标签值= 7 预测值= 2\n",
      "index=2597标签值= 5 预测值= 3\n",
      "index=2607标签值= 7 预测值= 4\n",
      "index=2648标签值= 9 预测值= 0\n",
      "index=2654标签值= 6 预测值= 1\n",
      "index=2720标签值= 9 预测值= 4\n",
      "index=2730标签值= 7 预测值= 4\n",
      "index=2750标签值= 6 预测值= 8\n",
      "index=2810标签值= 5 预测值= 3\n",
      "index=2823标签值= 7 预测值= 9\n",
      "index=2829标签值= 5 预测值= 9\n",
      "index=2863标签值= 9 预测值= 4\n",
      "index=2896标签值= 8 预测值= 0\n",
      "index=2921标签值= 3 预测值= 8\n",
      "index=2927标签值= 3 预测值= 2\n",
      "index=2939标签值= 9 预测值= 7\n",
      "index=2953标签值= 3 预测值= 5\n",
      "index=2995标签值= 6 预测值= 5\n",
      "index=3012标签值= 8 预测值= 9\n",
      "index=3030标签值= 6 预测值= 8\n",
      "index=3073标签值= 1 预测值= 2\n",
      "index=3102标签值= 5 预测值= 3\n",
      "index=3117标签值= 5 预测值= 4\n",
      "index=3225标签值= 7 预测值= 9\n",
      "index=3284标签值= 8 预测值= 2\n",
      "index=3289标签值= 8 预测值= 9\n",
      "index=3330标签值= 2 预测值= 8\n",
      "index=3384标签值= 2 预测值= 6\n",
      "index=3405标签值= 4 预测值= 9\n",
      "index=3422标签值= 6 预测值= 0\n",
      "index=3427标签值= 6 预测值= 8\n",
      "index=3475标签值= 3 预测值= 7\n",
      "index=3476标签值= 3 预测值= 8\n",
      "index=3503标签值= 9 预测值= 1\n",
      "index=3520标签值= 6 预测值= 4\n",
      "index=3558标签值= 5 预测值= 0\n",
      "index=3559标签值= 8 预测值= 5\n",
      "index=3597标签值= 9 预测值= 3\n",
      "index=3601标签值= 1 预测值= 4\n",
      "index=3681标签值= 2 预测值= 8\n",
      "index=3688标签值= 6 预测值= 4\n",
      "index=3702标签值= 5 预测值= 4\n",
      "index=3762标签值= 6 预测值= 8\n",
      "index=3767标签值= 7 预测值= 8\n",
      "index=3776标签值= 5 预测值= 8\n",
      "index=3780标签值= 4 预测值= 6\n",
      "index=3808标签值= 7 预测值= 8\n",
      "index=3811标签值= 2 预测值= 0\n",
      "index=3831标签值= 9 预测值= 4\n",
      "index=3850标签值= 9 预测值= 4\n",
      "index=3853标签值= 6 预测值= 0\n",
      "index=3869标签值= 9 预测值= 4\n",
      "index=3893标签值= 5 预测值= 8\n",
      "index=3906标签值= 1 预测值= 3\n",
      "index=3941标签值= 4 预测值= 6\n",
      "index=3951标签值= 8 预测值= 0\n",
      "index=3968标签值= 5 预测值= 3\n",
      "index=3976标签值= 7 预测值= 1\n",
      "index=3984标签值= 9 预测值= 4\n",
      "index=3985标签值= 9 预测值= 4\n",
      "index=4002标签值= 3 预测值= 5\n",
      "index=4007标签值= 7 预测值= 4\n",
      "index=4078标签值= 9 预测值= 7\n",
      "index=4140标签值= 8 预测值= 2\n",
      "index=4163标签值= 9 预测值= 4\n",
      "index=4176标签值= 2 预测值= 7\n",
      "index=4199标签值= 7 预测值= 9\n",
      "index=4201标签值= 1 预测值= 7\n",
      "index=4205标签值= 2 预测值= 1\n",
      "index=4248标签值= 2 预测值= 8\n",
      "index=4259标签值= 9 预测值= 4\n",
      "index=4289标签值= 2 预测值= 7\n",
      "index=4306标签值= 3 预测值= 7\n",
      "index=4349标签值= 1 预测值= 4\n",
      "index=4374标签值= 5 预测值= 6\n",
      "index=4405标签值= 9 预测值= 4\n",
      "index=4425标签值= 9 预测值= 4\n",
      "index=4433标签值= 7 预测值= 2\n",
      "index=4437标签值= 3 预测值= 2\n",
      "index=4443标签值= 3 预测值= 2\n",
      "index=4477标签值= 0 预测值= 4\n",
      "index=4497标签值= 8 预测值= 7\n",
      "index=4534标签值= 9 预测值= 7\n",
      "index=4547标签值= 6 预测值= 4\n",
      "index=4567标签值= 4 预测值= 9\n",
      "index=4601标签值= 8 预测值= 4\n",
      "index=4630标签值= 3 预测值= 5\n",
      "index=4635标签值= 3 预测值= 5\n",
      "index=4643标签值= 1 预测值= 4\n",
      "index=4671标签值= 8 预测值= 3\n",
      "index=4690标签值= 7 预测值= 2\n",
      "index=4699标签值= 6 预测值= 1\n",
      "index=4731标签值= 8 预测值= 7\n",
      "index=4735标签值= 9 预测值= 4\n",
      "index=4740标签值= 3 预测值= 5\n",
      "index=4761标签值= 9 预测值= 4\n",
      "index=4763标签值= 5 预测值= 6\n",
      "index=4823标签值= 9 预测值= 4\n",
      "index=4837标签值= 7 预测值= 1\n",
      "index=4861标签值= 7 预测值= 3\n",
      "index=4874标签值= 9 预测值= 0\n",
      "index=4956标签值= 8 预测值= 4\n",
      "index=4966标签值= 7 预测值= 9\n",
      "index=5046标签值= 3 预测值= 6\n",
      "index=5067标签值= 3 预测值= 6\n",
      "index=5086标签值= 2 预测值= 4\n",
      "index=5183标签值= 8 预测值= 4\n",
      "index=5199标签值= 6 预测值= 4\n",
      "index=5246标签值= 7 预测值= 2\n",
      "index=5331标签值= 1 预测值= 6\n",
      "index=5409标签值= 4 预测值= 6\n",
      "index=5457标签值= 1 预测值= 8\n",
      "index=5519标签值= 0 预测值= 6\n",
      "index=5600标签值= 7 预测值= 4\n",
      "index=5634标签值= 2 预测值= 8\n",
      "index=5642标签值= 1 预测值= 5\n",
      "index=5654标签值= 7 预测值= 9\n",
      "index=5655标签值= 7 预测值= 9\n",
      "index=5913标签值= 5 预测值= 8\n",
      "index=5936标签值= 4 预测值= 9\n",
      "index=5937标签值= 5 预测值= 3\n",
      "index=5955标签值= 3 预测值= 8\n",
      "index=5973标签值= 3 预测值= 8\n",
      "index=5989标签值= 6 预测值= 4\n",
      "index=5997标签值= 5 预测值= 9\n",
      "index=6053标签值= 5 预测值= 3\n",
      "index=6091标签值= 9 预测值= 3\n",
      "index=6165标签值= 5 预测值= 3\n",
      "index=6166标签值= 9 预测值= 3\n",
      "index=6173标签值= 9 预测值= 3\n",
      "index=6505标签值= 9 预测值= 0\n",
      "index=6555标签值= 8 预测值= 9\n",
      "index=6559标签值= 4 预测值= 7\n",
      "index=6560标签值= 9 预测值= 5\n",
      "index=6571标签值= 9 预测值= 7\n",
      "index=6576标签值= 7 预测值= 1\n",
      "index=6597标签值= 0 预测值= 7\n",
      "index=6598标签值= 5 预测值= 3\n",
      "index=6599标签值= 7 预测值= 9\n",
      "index=6603标签值= 8 预测值= 0\n",
      "index=6625标签值= 8 预测值= 4\n",
      "index=6651标签值= 0 预测值= 2\n",
      "index=6755标签值= 8 预测值= 9\n",
      "index=6783标签值= 1 预测值= 6\n",
      "index=6847标签值= 6 预测值= 4\n",
      "index=7094标签值= 8 预测值= 9\n",
      "index=7121标签值= 8 预测值= 9\n",
      "index=7200标签值= 8 预测值= 2\n",
      "index=7216标签值= 0 预测值= 6\n",
      "index=7259标签值= 8 预测值= 2\n",
      "index=7511标签值= 5 预测值= 3\n",
      "index=7529标签值= 3 预测值= 9\n",
      "index=7565标签值= 7 预测值= 4\n",
      "index=7783标签值= 1 预测值= 9\n",
      "index=7797标签值= 5 预测值= 6\n",
      "index=7849标签值= 3 预测值= 2\n",
      "index=7886标签值= 2 预测值= 4\n",
      "index=7893标签值= 3 预测值= 5\n",
      "index=7905标签值= 3 预测值= 0\n",
      "index=7928标签值= 1 预测值= 6\n",
      "index=8010标签值= 3 预测值= 8\n",
      "index=8030标签值= 7 预测值= 2\n",
      "index=8062标签值= 5 预测值= 8\n",
      "index=8091标签值= 2 预测值= 8\n",
      "index=8094标签值= 2 预测值= 8\n",
      "index=8246标签值= 3 预测值= 9\n",
      "index=8279标签值= 8 预测值= 4\n",
      "index=8322标签值= 9 预测值= 4\n",
      "index=8325标签值= 0 预测值= 6\n",
      "index=8339标签值= 8 预测值= 4\n",
      "index=8376标签值= 1 预测值= 4\n",
      "index=8416标签值= 4 预测值= 9\n",
      "index=8502标签值= 5 预测值= 3\n",
      "index=8527标签值= 4 预测值= 9\n",
      "index=8530标签值= 8 预测值= 4\n",
      "index=8607标签值= 3 预测值= 5\n",
      "index=8952标签值= 3 预测值= 9\n",
      "index=9009标签值= 7 预测值= 2\n",
      "index=9015标签值= 7 预测值= 2\n",
      "index=9019标签值= 7 预测值= 2\n",
      "index=9024标签值= 7 预测值= 2\n",
      "index=9045标签值= 7 预测值= 2\n",
      "index=9071标签值= 1 预测值= 4\n",
      "index=9112标签值= 1 预测值= 4\n",
      "index=9280标签值= 8 预测值= 5\n",
      "index=9505标签值= 7 预测值= 2\n",
      "index=9535标签值= 2 预测值= 0\n",
      "index=9538标签值= 4 预测值= 9\n",
      "index=9540标签值= 1 预测值= 8\n",
      "index=9587标签值= 9 预测值= 4\n",
      "index=9634标签值= 0 预测值= 1\n",
      "index=9664标签值= 2 预测值= 7\n",
      "index=9669标签值= 4 预测值= 7\n",
      "index=9679标签值= 6 预测值= 3\n",
      "index=9692标签值= 9 预测值= 7\n",
      "index=9700标签值= 2 预测值= 8\n",
      "index=9719标签值= 5 预测值= 3\n",
      "index=9729标签值= 5 预测值= 6\n",
      "index=9742标签值= 3 预测值= 8\n",
      "index=9745标签值= 4 预测值= 2\n",
      "index=9749标签值= 5 预测值= 6\n",
      "index=9762标签值= 3 预测值= 8\n",
      "index=9764标签值= 4 预测值= 6\n",
      "index=9768标签值= 2 预测值= 0\n",
      "index=9770标签值= 5 预测值= 0\n",
      "index=9779标签值= 2 预测值= 0\n",
      "index=9792标签值= 4 预测值= 9\n",
      "index=9808标签值= 9 预测值= 4\n",
      "index=9832标签值= 2 预测值= 8\n",
      "index=9858标签值= 6 预测值= 8\n",
      "index=9862标签值= 6 预测值= 8\n",
      "index=9879标签值= 0 预测值= 6\n",
      "index=9888标签值= 6 预测值= 8\n",
      "index=9904标签值= 2 预测值= 0\n",
      "index=9941标签值= 5 预测值= 8\n",
      "index=9982标签值= 5 预测值= 6\n",
      "总计：321\n"
     ]
    }
   ],
   "source": [
    "print_predict_errs(labels=mnist.test.labels, prediction=prediction_result)"
   ]
  }
 ],
 "metadata": {
  "anaconda-cloud": {},
  "kernelspec": {
   "display_name": "Python [conda root]",
   "language": "python",
   "name": "conda-root-py"
  },
  "language_info": {
   "codemirror_mode": {
    "name": "ipython",
    "version": 3
   },
   "file_extension": ".py",
   "mimetype": "text/x-python",
   "name": "python",
   "nbconvert_exporter": "python",
   "pygments_lexer": "ipython3",
   "version": "3.5.2"
  }
 },
 "nbformat": 4,
 "nbformat_minor": 1
}
