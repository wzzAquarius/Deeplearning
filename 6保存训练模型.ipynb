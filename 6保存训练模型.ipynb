{
 "cells": [
  {
   "cell_type": "code",
   "execution_count": 1,
   "metadata": {
    "collapsed": false
   },
   "outputs": [
    {
     "name": "stdout",
     "output_type": "stream",
     "text": [
      "Extracting G:/dldata/MNIST_data/train-images-idx3-ubyte.gz\n",
      "Extracting G:/dldata/MNIST_data/train-labels-idx1-ubyte.gz\n",
      "Extracting G:/dldata/MNIST_data/t10k-images-idx3-ubyte.gz\n",
      "Extracting G:/dldata/MNIST_data/t10k-labels-idx1-ubyte.gz\n"
     ]
    }
   ],
   "source": [
    "import tensorflow as tf\n",
    "import tensorflow.examples.tutorials.mnist.input_data as input_data\n",
    "import os\n",
    "mnist = input_data.read_data_sets(\"G:/dldata/MNIST_data/\",one_hot=True)"
   ]
  },
  {
   "cell_type": "code",
   "execution_count": 2,
   "metadata": {
    "collapsed": false
   },
   "outputs": [],
   "source": [
    "#创建保存模型文件的目录\n",
    "ckpt_dir = \"G:/dldata/ckpt_dir/\"\n",
    "if not os.path.exists(ckpt_dir):\n",
    "    os.makedirs(ckpt_dir)"
   ]
  },
  {
   "cell_type": "code",
   "execution_count": 3,
   "metadata": {
    "collapsed": true
   },
   "outputs": [],
   "source": [
    "#定义全连接层函数\n",
    "def fcn_layer(inputs,             #输入数据\n",
    "              input_dim,          #输入神经元数量\n",
    "              output_dim,         #输出神经元数量\n",
    "              activation=None):   #激活函数\n",
    "    W = tf.Variable(tf.truncated_normal([input_dim, output_dim], stddev=0.1)) #以截断正态分布的随机数初始化W\n",
    "    b = tf.Variable(tf.zeros(output_dim))  #以0初始化b\n",
    "    \n",
    "    XWb = tf.matmul(inputs, W) + b  #j建立表达式：inputs * W + b\n",
    "    \n",
    "    if activation is None:  #默认不使用激活函数\n",
    "        outputs = XWb    #若传入激活函数，则对输出结果进行变换\n",
    "    else:\n",
    "        outputs = activation(XWb)\n",
    "    return outputs"
   ]
  },
  {
   "cell_type": "code",
   "execution_count": 4,
   "metadata": {
    "collapsed": false
   },
   "outputs": [],
   "source": [
    "#构建输入层\n",
    "x = tf.placeholder(tf.float32, [None, 784], name=\"X\")"
   ]
  },
  {
   "cell_type": "code",
   "execution_count": 5,
   "metadata": {
    "collapsed": false
   },
   "outputs": [],
   "source": [
    "###构建1隐层模型###\n",
    "\n",
    "H1_NN = 256\n",
    "\n",
    "#构建隐藏层1\n",
    "h1 = fcn_layer(inputs = x,\n",
    "               input_dim = 784,\n",
    "               output_dim = H1_NN,\n",
    "               activation = tf.nn.relu)\n",
    "#构建输出层\n",
    "forward = fcn_layer(inputs=h1,\n",
    "                    input_dim=H1_NN,\n",
    "                    output_dim=10,\n",
    "                    activation=None)\n",
    "pred = tf.nn.softmax(forward)"
   ]
  },
  {
   "cell_type": "code",
   "execution_count": 6,
   "metadata": {
    "collapsed": true
   },
   "outputs": [],
   "source": [
    "#定义标签数据占位符\n",
    "y = tf.placeholder(tf.float32, [None, 10], name=\"Y\")"
   ]
  },
  {
   "cell_type": "code",
   "execution_count": 7,
   "metadata": {
    "collapsed": true
   },
   "outputs": [],
   "source": [
    "loss_function = tf.reduce_mean(tf.nn.softmax_cross_entropy_with_logits(logits=forward, labels=y))"
   ]
  },
  {
   "cell_type": "code",
   "execution_count": 8,
   "metadata": {
    "collapsed": true
   },
   "outputs": [],
   "source": [
    "train_epochs = 40\n",
    "batch_size = 50\n",
    "total_batch = int(mnist.train.num_examples/batch_size)\n",
    "display_step = 1\n",
    "learning_rate = 0.01\n",
    "\n",
    "#存储模型的粒度\n",
    "save_step = 5"
   ]
  },
  {
   "cell_type": "code",
   "execution_count": 9,
   "metadata": {
    "collapsed": true
   },
   "outputs": [],
   "source": [
    "optimizer = tf.train.AdamOptimizer(learning_rate).minimize(loss_function)"
   ]
  },
  {
   "cell_type": "code",
   "execution_count": 10,
   "metadata": {
    "collapsed": true
   },
   "outputs": [],
   "source": [
    "correct_prediction = tf.equal(tf.arg_max(pred, 1), tf.arg_max(y, 1))\n",
    "accuracy = tf.reduce_mean(tf.cast(correct_prediction,tf.float32))"
   ]
  },
  {
   "cell_type": "code",
   "execution_count": 11,
   "metadata": {
    "collapsed": false
   },
   "outputs": [
    {
     "name": "stdout",
     "output_type": "stream",
     "text": [
      "Train Epoch: 01 loss= 0.154859662 Accuracy= 0.9552\n",
      "Train Epoch: 02 loss= 0.183831990 Accuracy= 0.9512\n",
      "Train Epoch: 03 loss= 0.139997780 Accuracy= 0.9624\n",
      "Train Epoch: 04 loss= 0.182067156 Accuracy= 0.9578\n",
      "Train Epoch: 05 loss= 0.159927368 Accuracy= 0.9666\n",
      "mnist_h256_model_000005.ckpt saved\n",
      "Train Epoch: 06 loss= 0.170264184 Accuracy= 0.9628\n",
      "Train Epoch: 07 loss= 0.223159358 Accuracy= 0.963\n",
      "Train Epoch: 08 loss= 0.230628178 Accuracy= 0.965\n",
      "Train Epoch: 09 loss= 0.204531595 Accuracy= 0.9674\n",
      "Train Epoch: 10 loss= 0.218626246 Accuracy= 0.9684\n",
      "mnist_h256_model_000010.ckpt saved\n",
      "Train Epoch: 11 loss= 0.201592609 Accuracy= 0.9716\n",
      "Train Epoch: 12 loss= 0.232062131 Accuracy= 0.9724\n",
      "Train Epoch: 13 loss= 0.248739630 Accuracy= 0.9698\n",
      "Train Epoch: 14 loss= 0.265724599 Accuracy= 0.9726\n",
      "Train Epoch: 15 loss= 0.206563190 Accuracy= 0.973\n",
      "mnist_h256_model_000015.ckpt saved\n",
      "Train Epoch: 16 loss= 0.294457555 Accuracy= 0.9702\n",
      "Train Epoch: 17 loss= 0.296203017 Accuracy= 0.968\n",
      "Train Epoch: 18 loss= 0.323337764 Accuracy= 0.9686\n",
      "Train Epoch: 19 loss= 0.325866193 Accuracy= 0.9688\n",
      "Train Epoch: 20 loss= 0.320443451 Accuracy= 0.9716\n",
      "mnist_h256_model_000020.ckpt saved\n",
      "Train Epoch: 21 loss= 0.329746336 Accuracy= 0.972\n",
      "Train Epoch: 22 loss= 0.328882337 Accuracy= 0.973\n",
      "Train Epoch: 23 loss= 0.340624720 Accuracy= 0.9724\n",
      "Train Epoch: 24 loss= 0.474968374 Accuracy= 0.9636\n",
      "Train Epoch: 25 loss= 0.339954913 Accuracy= 0.975\n",
      "mnist_h256_model_000025.ckpt saved\n",
      "Train Epoch: 26 loss= 0.396078527 Accuracy= 0.971\n",
      "Train Epoch: 27 loss= 0.381938517 Accuracy= 0.971\n",
      "Train Epoch: 28 loss= 0.465106308 Accuracy= 0.9722\n",
      "Train Epoch: 29 loss= 0.489536285 Accuracy= 0.9706\n",
      "Train Epoch: 30 loss= 0.461283058 Accuracy= 0.9742\n",
      "mnist_h256_model_000030.ckpt saved\n",
      "Train Epoch: 31 loss= 0.538068175 Accuracy= 0.9718\n",
      "Train Epoch: 32 loss= 0.558278441 Accuracy= 0.968\n",
      "Train Epoch: 33 loss= 0.524897218 Accuracy= 0.9734\n",
      "Train Epoch: 34 loss= 0.543031812 Accuracy= 0.9714\n",
      "Train Epoch: 35 loss= 0.669983864 Accuracy= 0.971\n",
      "mnist_h256_model_000035.ckpt saved\n",
      "Train Epoch: 36 loss= 0.556323230 Accuracy= 0.9752\n",
      "Train Epoch: 37 loss= 0.525079906 Accuracy= 0.9752\n",
      "Train Epoch: 38 loss= 0.758096993 Accuracy= 0.9692\n",
      "Train Epoch: 39 loss= 0.723999500 Accuracy= 0.97\n",
      "Train Epoch: 40 loss= 0.671956062 Accuracy= 0.97\n",
      "mnist_h256_model_000040.ckpt saved\n",
      "Model saved!\n",
      "Train Finished takes: 153.98\n"
     ]
    }
   ],
   "source": [
    "#声明完所有变量后，通过saver存储模型\n",
    "saver = tf.train.Saver()\n",
    "\n",
    "from time import time\n",
    "startTime = time()\n",
    "\n",
    "sess = tf.Session()\n",
    "sess.run(tf.global_variables_initializer())\n",
    "\n",
    "for epoch in range(train_epochs):\n",
    "    for batch in range(total_batch):\n",
    "        xs,ys = mnist.train.next_batch(batch_size)\n",
    "        sess.run(optimizer, feed_dict={x:xs, y:ys})\n",
    "        \n",
    "    loss,acc = sess.run([loss_function,accuracy],\n",
    "                        feed_dict={x:mnist.validation.images,\n",
    "                                   y:mnist.validation.labels})\n",
    "    if (epoch+1) % display_step == 0:\n",
    "        print(\"Train Epoch:\", '%02d'% (epoch+1), \"loss=\", \"{:.9f}\".format(loss),\"Accuracy=\",\"{:.4}\".format(acc))\n",
    "    \n",
    "    if(epoch+1) % save_step == 0:\n",
    "        saver.save(sess,os.path.join(ckpt_dir,'mnist_h256_model_{:06d}.ckpt'.format(epoch+1)))\n",
    "        print('mnist_h256_model_{:06d}.ckpt saved'.format(epoch+1))\n",
    "\n",
    "saver.save(sess, os.path.join(ckpt_dir,'mnist_h256_model.ckpt'))       \n",
    "print(\"Model saved!\")\n",
    "\n",
    "duration = time() - startTime\n",
    "print(\"Train Finished takes:\",\"{:.2f}\".format(duration))"
   ]
  }
 ],
 "metadata": {
  "anaconda-cloud": {},
  "kernelspec": {
   "display_name": "Python [conda root]",
   "language": "python",
   "name": "conda-root-py"
  },
  "language_info": {
   "codemirror_mode": {
    "name": "ipython",
    "version": 3
   },
   "file_extension": ".py",
   "mimetype": "text/x-python",
   "name": "python",
   "nbconvert_exporter": "python",
   "pygments_lexer": "ipython3",
   "version": "3.5.2"
  }
 },
 "nbformat": 4,
 "nbformat_minor": 1
}
