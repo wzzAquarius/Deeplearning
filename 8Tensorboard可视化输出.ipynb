{
 "cells": [
  {
   "cell_type": "code",
   "execution_count": 1,
   "metadata": {
    "collapsed": true
   },
   "outputs": [],
   "source": [
    "import tensorflow as tf\n",
    "import tensorflow.examples.tutorials.mnist.input_data as input_data"
   ]
  },
  {
   "cell_type": "code",
   "execution_count": 2,
   "metadata": {
    "collapsed": false
   },
   "outputs": [
    {
     "name": "stdout",
     "output_type": "stream",
     "text": [
      "Extracting G:/dldata/MNIST_data/train-images-idx3-ubyte.gz\n",
      "Extracting G:/dldata/MNIST_data/train-labels-idx1-ubyte.gz\n",
      "Extracting G:/dldata/MNIST_data/t10k-images-idx3-ubyte.gz\n",
      "Extracting G:/dldata/MNIST_data/t10k-labels-idx1-ubyte.gz\n"
     ]
    }
   ],
   "source": [
    "mnist = input_data.read_data_sets(\"G:/dldata/MNIST_data/\",one_hot=True)"
   ]
  },
  {
   "cell_type": "code",
   "execution_count": 3,
   "metadata": {
    "collapsed": true
   },
   "outputs": [],
   "source": [
    "#定义全连接层函数\n",
    "def fcn_layer(inputs,             #输入数据\n",
    "              input_dim,          #输入神经元数量\n",
    "              output_dim,         #输出神经元数量\n",
    "              activation=None):   #激活函数\n",
    "    W = tf.Variable(tf.truncated_normal([input_dim, output_dim], stddev=0.1)) #以截断正态分布的随机数初始化W\n",
    "    b = tf.Variable(tf.zeros(output_dim))  #以0初始化b\n",
    "    \n",
    "    XWb = tf.matmul(inputs, W) + b  #j建立表达式：inputs * W + b\n",
    "    \n",
    "    if activation is None:  #默认不使用激活函数\n",
    "        outputs = XWb    #若传入激活函数，则对输出结果进行变换\n",
    "    else:\n",
    "        outputs = activation(XWb)\n",
    "    return outputs"
   ]
  },
  {
   "cell_type": "code",
   "execution_count": 4,
   "metadata": {
    "collapsed": false
   },
   "outputs": [],
   "source": [
    "#构建输入层\n",
    "x = tf.placeholder(tf.float32, [None, 784], name=\"X\")"
   ]
  },
  {
   "cell_type": "code",
   "execution_count": 5,
   "metadata": {
    "collapsed": false
   },
   "outputs": [
    {
     "data": {
      "text/plain": [
       "<tf.Tensor 'input:0' shape=() dtype=string>"
      ]
     },
     "execution_count": 5,
     "metadata": {},
     "output_type": "execute_result"
    }
   ],
   "source": [
    "image_shaped_input = tf.reshape(x, [-1,28,28,1])  #-1代表不确定输入数据有多少行，28*28位图，1个色彩单元\n",
    "tf.summary.image('input', image_shaped_input, 10) #将输入的样本图像加入到summary中,最多显示10幅图"
   ]
  },
  {
   "cell_type": "code",
   "execution_count": 6,
   "metadata": {
    "collapsed": false
   },
   "outputs": [],
   "source": [
    "#构建隐藏层\n",
    "h1 = fcn_layer(inputs = x,\n",
    "               input_dim = 784,\n",
    "               output_dim = 256,\n",
    "               activation = tf.nn.relu)"
   ]
  },
  {
   "cell_type": "code",
   "execution_count": 7,
   "metadata": {
    "collapsed": true
   },
   "outputs": [],
   "source": [
    "#构建输出层\n",
    "forward = fcn_layer(inputs=h1,\n",
    "                    input_dim=256,\n",
    "                    output_dim=10,\n",
    "                    activation=None)\n",
    "pred = tf.nn.softmax(forward)"
   ]
  },
  {
   "cell_type": "code",
   "execution_count": 8,
   "metadata": {
    "collapsed": true
   },
   "outputs": [],
   "source": [
    "#定义标签数据占位符\n",
    "y = tf.placeholder(tf.float32, [None, 10], name=\"Y\")"
   ]
  },
  {
   "cell_type": "code",
   "execution_count": 9,
   "metadata": {
    "collapsed": false
   },
   "outputs": [
    {
     "data": {
      "text/plain": [
       "<tf.Tensor 'forward:0' shape=() dtype=string>"
      ]
     },
     "execution_count": 9,
     "metadata": {},
     "output_type": "execute_result"
    }
   ],
   "source": [
    "#前向输出值在以直方图显示\n",
    "tf.summary.histogram('forward', forward) #定义好前向计算操作后加入summary"
   ]
  },
  {
   "cell_type": "code",
   "execution_count": 10,
   "metadata": {
    "collapsed": false
   },
   "outputs": [],
   "source": [
    "loss_function = tf.reduce_mean(tf.nn.softmax_cross_entropy_with_logits(logits=forward, labels=y))"
   ]
  },
  {
   "cell_type": "code",
   "execution_count": 11,
   "metadata": {
    "collapsed": false
   },
   "outputs": [
    {
     "data": {
      "text/plain": [
       "<tf.Tensor 'loss:0' shape=() dtype=string>"
      ]
     },
     "execution_count": 11,
     "metadata": {},
     "output_type": "execute_result"
    }
   ],
   "source": [
    "#将loss损失以标量显示\n",
    "tf.summary.scalar('loss', loss_function) #定义好loss_function后加入summary"
   ]
  },
  {
   "cell_type": "code",
   "execution_count": 12,
   "metadata": {
    "collapsed": true
   },
   "outputs": [],
   "source": [
    "correct_prediction = tf.equal(tf.arg_max(pred, 1), tf.arg_max(y, 1))\n",
    "accuracy = tf.reduce_mean(tf.cast(correct_prediction,tf.float32))"
   ]
  },
  {
   "cell_type": "code",
   "execution_count": 13,
   "metadata": {
    "collapsed": false
   },
   "outputs": [
    {
     "data": {
      "text/plain": [
       "<tf.Tensor 'accuracy:0' shape=() dtype=string>"
      ]
     },
     "execution_count": 13,
     "metadata": {},
     "output_type": "execute_result"
    }
   ],
   "source": [
    "#将accuracy准确率以标量显示\n",
    "tf.summary.scalar('accuracy', accuracy)"
   ]
  },
  {
   "cell_type": "code",
   "execution_count": 14,
   "metadata": {
    "collapsed": true
   },
   "outputs": [],
   "source": [
    "train_epochs = 40\n",
    "batch_size = 50\n",
    "total_batch = int(mnist.train.num_examples/batch_size)\n",
    "display_step = 1\n",
    "learning_rate = 0.01"
   ]
  },
  {
   "cell_type": "code",
   "execution_count": 15,
   "metadata": {
    "collapsed": true
   },
   "outputs": [],
   "source": [
    "optimizer = tf.train.AdamOptimizer(learning_rate).minimize(loss_function)"
   ]
  },
  {
   "cell_type": "code",
   "execution_count": 16,
   "metadata": {
    "collapsed": true
   },
   "outputs": [],
   "source": [
    "sess = tf.Session()\n",
    "sess.run(tf.global_variables_initializer())"
   ]
  },
  {
   "cell_type": "code",
   "execution_count": 17,
   "metadata": {
    "collapsed": true
   },
   "outputs": [],
   "source": [
    "#合并所有summary\n",
    "merged_summary_op = tf.summary.merge_all() \n",
    "writer = tf.summary.FileWriter('G:/dldata/log/', sess.graph)  #创建写入符"
   ]
  },
  {
   "cell_type": "code",
   "execution_count": 18,
   "metadata": {
    "collapsed": false
   },
   "outputs": [
    {
     "name": "stdout",
     "output_type": "stream",
     "text": [
      "Train Epoch: 01 loss= 0.129277289 Accuracy= 0.967\n",
      "Train Epoch: 02 loss= 0.134355709 Accuracy= 0.965\n",
      "Train Epoch: 03 loss= 0.139012754 Accuracy= 0.9674\n",
      "Train Epoch: 04 loss= 0.187854812 Accuracy= 0.9542\n",
      "Train Epoch: 05 loss= 0.158874273 Accuracy= 0.9708\n",
      "Train Epoch: 06 loss= 0.166725457 Accuracy= 0.9676\n",
      "Train Epoch: 07 loss= 0.191348016 Accuracy= 0.966\n",
      "Train Epoch: 08 loss= 0.233119920 Accuracy= 0.9608\n",
      "Train Epoch: 09 loss= 0.198247001 Accuracy= 0.969\n",
      "Train Epoch: 10 loss= 0.302173704 Accuracy= 0.9618\n",
      "Train Epoch: 11 loss= 0.247529536 Accuracy= 0.9654\n",
      "Train Epoch: 12 loss= 0.265054792 Accuracy= 0.9686\n",
      "Train Epoch: 13 loss= 0.274540693 Accuracy= 0.9656\n",
      "Train Epoch: 14 loss= 0.335629672 Accuracy= 0.9652\n",
      "Train Epoch: 15 loss= 0.300855786 Accuracy= 0.9684\n",
      "Train Epoch: 16 loss= 0.249081448 Accuracy= 0.97\n",
      "Train Epoch: 17 loss= 0.355799228 Accuracy= 0.971\n",
      "Train Epoch: 18 loss= 0.396937996 Accuracy= 0.9658\n",
      "Train Epoch: 19 loss= 0.373554289 Accuracy= 0.9676\n",
      "Train Epoch: 20 loss= 0.323371559 Accuracy= 0.9738\n",
      "Train Epoch: 21 loss= 0.471135169 Accuracy= 0.9666\n",
      "Train Epoch: 22 loss= 0.359810740 Accuracy= 0.971\n",
      "Train Epoch: 23 loss= 0.486281186 Accuracy= 0.967\n",
      "Train Epoch: 24 loss= 0.488123059 Accuracy= 0.9684\n",
      "Train Epoch: 25 loss= 0.439971000 Accuracy= 0.9716\n",
      "Train Epoch: 26 loss= 0.454514146 Accuracy= 0.9704\n",
      "Train Epoch: 27 loss= 0.414769292 Accuracy= 0.9716\n",
      "Train Epoch: 28 loss= 0.447099060 Accuracy= 0.9728\n",
      "Train Epoch: 29 loss= 0.502166748 Accuracy= 0.9712\n",
      "Train Epoch: 30 loss= 0.542448819 Accuracy= 0.9706\n",
      "Train Epoch: 31 loss= 0.533195972 Accuracy= 0.9704\n",
      "Train Epoch: 32 loss= 0.590690553 Accuracy= 0.97\n",
      "Train Epoch: 33 loss= 0.586144805 Accuracy= 0.9738\n",
      "Train Epoch: 34 loss= 0.611928642 Accuracy= 0.9696\n",
      "Train Epoch: 35 loss= 0.554642677 Accuracy= 0.9718\n",
      "Train Epoch: 36 loss= 0.555978656 Accuracy= 0.9736\n",
      "Train Epoch: 37 loss= 0.631856978 Accuracy= 0.9694\n",
      "Train Epoch: 38 loss= 0.592463791 Accuracy= 0.9736\n",
      "Train Epoch: 39 loss= 0.580652595 Accuracy= 0.9736\n",
      "Train Epoch: 40 loss= 0.591887236 Accuracy= 0.9718\n",
      "Train Finished takes: 294.30\n"
     ]
    }
   ],
   "source": [
    "from time import time\n",
    "startTime = time()\n",
    "\n",
    "sess = tf.Session()\n",
    "sess.run(tf.global_variables_initializer())\n",
    "\n",
    "for epoch in range(train_epochs):\n",
    "    for batch in range(total_batch):\n",
    "        xs,ys = mnist.train.next_batch(batch_size)\n",
    "        sess.run(optimizer, feed_dict={x:xs, y:ys})\n",
    "        \n",
    "        #生成summary\n",
    "        summary_str = sess.run(merged_summary_op, feed_dict={x: xs, y: ys})  #生成摘要信息\n",
    "        writer.add_summary(summary_str, epoch) #将summary写入文件\n",
    "        \n",
    "    loss,acc = sess.run([loss_function,accuracy],\n",
    "                        feed_dict={x:mnist.validation.images,\n",
    "                                   y:mnist.validation.labels})\n",
    "    if (epoch+1) % display_step == 0:\n",
    "        print(\"Train Epoch:\", '%02d'% (epoch+1), \"loss=\", \"{:.9f}\".format(loss),\"Accuracy=\",\"{:.4}\".format(acc))\n",
    "\n",
    "duration = time() - startTime\n",
    "print(\"Train Finished takes:\",\"{:.2f}\".format(duration))"
   ]
  }
 ],
 "metadata": {
  "anaconda-cloud": {},
  "kernelspec": {
   "display_name": "Python [conda root]",
   "language": "python",
   "name": "conda-root-py"
  },
  "language_info": {
   "codemirror_mode": {
    "name": "ipython",
    "version": 3
   },
   "file_extension": ".py",
   "mimetype": "text/x-python",
   "name": "python",
   "nbconvert_exporter": "python",
   "pygments_lexer": "ipython3",
   "version": "3.5.2"
  }
 },
 "nbformat": 4,
 "nbformat_minor": 1
}
