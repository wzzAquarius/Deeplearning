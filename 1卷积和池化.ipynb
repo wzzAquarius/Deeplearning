{
 "cells": [
  {
   "cell_type": "code",
   "execution_count": 3,
   "metadata": {
    "collapsed": true
   },
   "outputs": [],
   "source": [
    "import tensorflow as tf\n",
    "import numpy as np"
   ]
  },
  {
   "cell_type": "code",
   "execution_count": 4,
   "metadata": {
    "collapsed": true
   },
   "outputs": [],
   "source": [
    "            #########    卷积函数    #########\n",
    "    \n",
    "#   tf.nn.conv2d(input,filter,strides,padding,use_cudnn_on_gpu=None,name=Non \n",
    "\n",
    "#   input:              需要做卷积的输入数据  （[batch,in_height,in_width,in_channels]）批次，尺寸，色彩通道。 类型要求float32/64\n",
    "#   filter:             卷积核  [filter_height,filter_width,in_channels,out_channels]尺寸，输入输出色彩通道数。\n",
    "#   strides:            图像每一维的步长，一维向量，长度为4\n",
    "#   padding:            \"SAME\"或\"VALID\",SAME表示边缘填充，VALID表示边缘不填充\n",
    "#   use_cudnn_on_gpu:   bool类型，是否用cudnn加速\n",
    "#   name:               操作名称\n",
    "#   返回值:             返回一个tensor,即feature map"
   ]
  },
  {
   "cell_type": "code",
   "execution_count": 5,
   "metadata": {
    "collapsed": false
   },
   "outputs": [
    {
     "name": "stdout",
     "output_type": "stream",
     "text": [
      "<tf.Variable 'Variable_4:0' shape=(10, 9, 9, 4) dtype=float32_ref>\n",
      "Tensor(\"Conv2D_2:0\", shape=(10, 7, 7, 2), dtype=float32)\n"
     ]
    }
   ],
   "source": [
    "input_data = tf.Variable(np.random.rand(10,9,9,4), dtype=np.float32)\n",
    "filter_data = tf.Variable(np.random.rand(3,3,4,2), dtype=np.float32)\n",
    "\n",
    "y= tf.nn.conv2d(input_data,filter_data,strides=[1,1,1,1],padding='VALID')\n",
    "#y= tf.nn.conv2d(input_data,filter_data,strides=[1,1,1,1],padding='SAME')\n",
    "\n",
    "print(input_data)\n",
    "print(y)"
   ]
  },
  {
   "cell_type": "code",
   "execution_count": 7,
   "metadata": {
    "collapsed": false
   },
   "outputs": [],
   "source": [
    "            #########    池化函数    #########\n",
    "#    最大池化: tf.nn.max_pool(value,ksize,strides,padding,name)\n",
    "#    平均池化: tf.nn.avg_pool(value,ksize,strides,padding,name)\n",
    "#    \n",
    "#    value:    需要池化的输入.一般池化层在卷积层后面，所以仍是4维张量([batch,in_height,in_width,in_channels])\n",
    "#    ksize:    池化窗口的大小,由于一般不在batch和channel上做池化,所以一般是[1,height,width,1]"
   ]
  },
  {
   "cell_type": "code",
   "execution_count": 8,
   "metadata": {
    "collapsed": false
   },
   "outputs": [
    {
     "name": "stdout",
     "output_type": "stream",
     "text": [
      "conv: Tensor(\"Conv2D_2:0\", shape=(10, 7, 7, 2), dtype=float32)\n",
      "output Tensor(\"MaxPool:0\", shape=(10, 4, 4, 2), dtype=float32)\n"
     ]
    }
   ],
   "source": [
    "#output = tf.nn.avg_pool(value=y,ksize=[1,2,2,1],strides=[1,2,2,1], padding = 'SAME')\n",
    "output = tf.nn.max_pool(value=y,ksize=[1,2,2,1],strides=[1,2,2,1], padding = 'SAME')\n",
    "print('conv:',y)\n",
    "print('output',output)"
   ]
  }
 ],
 "metadata": {
  "anaconda-cloud": {},
  "kernelspec": {
   "display_name": "Python [conda root]",
   "language": "python",
   "name": "conda-root-py"
  },
  "language_info": {
   "codemirror_mode": {
    "name": "ipython",
    "version": 3
   },
   "file_extension": ".py",
   "mimetype": "text/x-python",
   "name": "python",
   "nbconvert_exporter": "python",
   "pygments_lexer": "ipython3",
   "version": "3.5.2"
  }
 },
 "nbformat": 4,
 "nbformat_minor": 1
}
