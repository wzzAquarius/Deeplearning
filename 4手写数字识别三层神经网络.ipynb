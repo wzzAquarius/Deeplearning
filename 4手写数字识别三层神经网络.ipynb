{
 "cells": [
  {
   "cell_type": "code",
   "execution_count": 1,
   "metadata": {
    "collapsed": true
   },
   "outputs": [],
   "source": [
    "import tensorflow as tf\n",
    "import tensorflow.examples.tutorials.mnist.input_data as input_data"
   ]
  },
  {
   "cell_type": "code",
   "execution_count": 2,
   "metadata": {
    "collapsed": false
   },
   "outputs": [
    {
     "name": "stdout",
     "output_type": "stream",
     "text": [
      "Extracting G:/dldata/MNIST_data/train-images-idx3-ubyte.gz\n",
      "Extracting G:/dldata/MNIST_data/train-labels-idx1-ubyte.gz\n",
      "Extracting G:/dldata/MNIST_data/t10k-images-idx3-ubyte.gz\n",
      "Extracting G:/dldata/MNIST_data/t10k-labels-idx1-ubyte.gz\n"
     ]
    }
   ],
   "source": [
    "mnist = input_data.read_data_sets(\"G:/dldata/MNIST_data/\",one_hot=True)"
   ]
  },
  {
   "cell_type": "code",
   "execution_count": 3,
   "metadata": {
    "collapsed": true
   },
   "outputs": [],
   "source": [
    "x = tf.placeholder(tf.float32, [None, 784], name=\"X\")\n",
    "y = tf.placeholder(tf.float32, [None, 10], name=\"Y\") "
   ]
  },
  {
   "cell_type": "code",
   "execution_count": 4,
   "metadata": {
    "collapsed": false
   },
   "outputs": [],
   "source": [
    "H1_NN = 256 #第一层隐藏神经元为256个\n",
    "H2_NN = 64  #第二层隐藏神经元为64个\n",
    "H3_NN = 32  #第三层隐藏神经元为32个\n",
    "\n",
    "#输入层-第1隐藏层参数和偏置项\n",
    "W1 = tf.Variable(tf.random_normal([784, H1_NN], stddev=0.1))\n",
    "b1 = tf.Variable(tf.zeros([H1_NN]))\n",
    "#第1隐藏层-第2隐藏层参数和偏置项\n",
    "W2 = tf.Variable(tf.random_normal([H1_NN, H2_NN], stddev=0.1))\n",
    "b2 = tf.Variable(tf.zeros([H2_NN]))\n",
    "#第2隐藏层-第3隐藏层参数和偏置项\n",
    "W3= tf.Variable(tf.random_normal([H2_NN, H3_NN], stddev=0.1))\n",
    "b3 = tf.Variable(tf.zeros([H3_NN]))\n",
    "#第3隐藏层-输出层参数和偏置项\n",
    "W4 = tf.Variable(tf.random_normal([H3_NN, 10], stddev=0.1))\n",
    "b4 = tf.Variable(tf.zeros([10]))"
   ]
  },
  {
   "cell_type": "code",
   "execution_count": 5,
   "metadata": {
    "collapsed": false
   },
   "outputs": [],
   "source": [
    "Y1 = tf.nn.relu(tf.matmul(x, W1) + b1) #计算第1隐藏层结果\n",
    "Y2 = tf.nn.relu(tf.matmul(Y1, W2) + b2) #计算第2隐藏层结果\n",
    "Y3 = tf.nn.relu(tf.matmul(Y2, W3) + b3) #计算第2隐藏层结果\n",
    "\n",
    "forward = tf.matmul(Y3, W4) + b4\n",
    "pred = tf.nn.softmax(forward)"
   ]
  },
  {
   "cell_type": "code",
   "execution_count": 6,
   "metadata": {
    "collapsed": false
   },
   "outputs": [],
   "source": [
    "loss_function = tf.reduce_mean(tf.nn.softmax_cross_entropy_with_logits(logits=forward, labels=y))"
   ]
  },
  {
   "cell_type": "code",
   "execution_count": 7,
   "metadata": {
    "collapsed": true
   },
   "outputs": [],
   "source": [
    "train_epochs = 40\n",
    "batch_size = 50\n",
    "total_batch = int(mnist.train.num_examples/batch_size)\n",
    "display_step = 1\n",
    "learning_rate = 0.01"
   ]
  },
  {
   "cell_type": "code",
   "execution_count": 8,
   "metadata": {
    "collapsed": false
   },
   "outputs": [],
   "source": [
    "optimizer = tf.train.AdamOptimizer(learning_rate).minimize(loss_function)"
   ]
  },
  {
   "cell_type": "code",
   "execution_count": 9,
   "metadata": {
    "collapsed": false
   },
   "outputs": [],
   "source": [
    "correct_prediction = tf.equal(tf.arg_max(pred, 1), tf.arg_max(y, 1))\n",
    "accuracy = tf.reduce_mean(tf.cast(correct_prediction,tf.float32))"
   ]
  },
  {
   "cell_type": "code",
   "execution_count": 10,
   "metadata": {
    "collapsed": false
   },
   "outputs": [
    {
     "name": "stdout",
     "output_type": "stream",
     "text": [
      "Train Epoch: 01 loss= 0.176427856 Accuracy= 0.9494\n",
      "Train Epoch: 02 loss= 0.182280734 Accuracy= 0.9542\n",
      "Train Epoch: 03 loss= 0.134616852 Accuracy= 0.9684\n",
      "Train Epoch: 04 loss= 0.136785865 Accuracy= 0.9652\n",
      "Train Epoch: 05 loss= 0.157787502 Accuracy= 0.9648\n",
      "Train Epoch: 06 loss= 0.156760514 Accuracy= 0.966\n",
      "Train Epoch: 07 loss= 0.152874291 Accuracy= 0.9662\n",
      "Train Epoch: 08 loss= 0.157834068 Accuracy= 0.9686\n",
      "Train Epoch: 09 loss= 0.151489928 Accuracy= 0.9652\n",
      "Train Epoch: 10 loss= 0.180552170 Accuracy= 0.974\n",
      "Train Epoch: 11 loss= 0.144413039 Accuracy= 0.975\n",
      "Train Epoch: 12 loss= 0.176963598 Accuracy= 0.9658\n",
      "Train Epoch: 13 loss= 0.216908053 Accuracy= 0.9626\n",
      "Train Epoch: 14 loss= 0.144737870 Accuracy= 0.974\n",
      "Train Epoch: 15 loss= 0.194407910 Accuracy= 0.9746\n",
      "Train Epoch: 16 loss= 0.178216904 Accuracy= 0.9764\n",
      "Train Epoch: 17 loss= 0.199500725 Accuracy= 0.9738\n",
      "Train Epoch: 18 loss= 0.375067174 Accuracy= 0.973\n",
      "Train Epoch: 19 loss= 0.293170571 Accuracy= 0.97\n",
      "Train Epoch: 20 loss= 0.161289215 Accuracy= 0.9776\n",
      "Train Epoch: 21 loss= 0.179164022 Accuracy= 0.9758\n",
      "Train Epoch: 22 loss= 0.205554172 Accuracy= 0.9734\n",
      "Train Epoch: 23 loss= 0.212638229 Accuracy= 0.9722\n",
      "Train Epoch: 24 loss= 0.194746047 Accuracy= 0.9698\n",
      "Train Epoch: 25 loss= 0.164965287 Accuracy= 0.9752\n",
      "Train Epoch: 26 loss= 0.285094678 Accuracy= 0.967\n",
      "Train Epoch: 27 loss= 0.162452757 Accuracy= 0.9746\n",
      "Train Epoch: 28 loss= 0.201904327 Accuracy= 0.9708\n",
      "Train Epoch: 29 loss= 0.224873900 Accuracy= 0.9758\n",
      "Train Epoch: 30 loss= 0.158155471 Accuracy= 0.9738\n",
      "Train Epoch: 31 loss= 0.242445365 Accuracy= 0.9734\n",
      "Train Epoch: 32 loss= 0.202139825 Accuracy= 0.9748\n",
      "Train Epoch: 33 loss= 0.170699626 Accuracy= 0.9782\n",
      "Train Epoch: 34 loss= 0.185226515 Accuracy= 0.9794\n",
      "Train Epoch: 35 loss= 0.217514351 Accuracy= 0.975\n",
      "Train Epoch: 36 loss= 0.237127349 Accuracy= 0.9756\n",
      "Train Epoch: 37 loss= 0.189452901 Accuracy= 0.9718\n",
      "Train Epoch: 38 loss= 0.192462996 Accuracy= 0.9796\n",
      "Train Epoch: 39 loss= 0.156876102 Accuracy= 0.9746\n",
      "Train Epoch: 40 loss= 0.337667286 Accuracy= 0.9764\n",
      "Train Finished takes: 172.71\n"
     ]
    }
   ],
   "source": [
    "from time import time\n",
    "startTime = time()\n",
    "\n",
    "sess = tf.Session()\n",
    "sess.run(tf.global_variables_initializer())\n",
    "\n",
    "for epoch in range(train_epochs):\n",
    "    for batch in range(total_batch):\n",
    "        xs,ys = mnist.train.next_batch(batch_size)\n",
    "        sess.run(optimizer, feed_dict={x:xs, y:ys})\n",
    "    loss,acc = sess.run([loss_function,accuracy],\n",
    "                        feed_dict={x:mnist.validation.images,\n",
    "                                   y:mnist.validation.labels})\n",
    "    if (epoch+1) % display_step == 0:\n",
    "        print(\"Train Epoch:\", '%02d'% (epoch+1), \"loss=\", \"{:.9f}\".format(loss),\"Accuracy=\",\"{:.4}\".format(acc))\n",
    "\n",
    "duration = time() - startTime\n",
    "print(\"Train Finished takes:\",\"{:.2f}\".format(duration))"
   ]
  },
  {
   "cell_type": "code",
   "execution_count": 11,
   "metadata": {
    "collapsed": false
   },
   "outputs": [
    {
     "name": "stdout",
     "output_type": "stream",
     "text": [
      "Test Accuracy: 0.9758\n"
     ]
    }
   ],
   "source": [
    "#进行测试\n",
    "accu_test = sess.run(accuracy,feed_dict={x: mnist.test.images, y: mnist.test.labels})\n",
    "print(\"Test Accuracy:\",accu_test)"
   ]
  }
 ],
 "metadata": {
  "anaconda-cloud": {},
  "kernelspec": {
   "display_name": "Python [conda root]",
   "language": "python",
   "name": "conda-root-py"
  },
  "language_info": {
   "codemirror_mode": {
    "name": "ipython",
    "version": 3
   },
   "file_extension": ".py",
   "mimetype": "text/x-python",
   "name": "python",
   "nbconvert_exporter": "python",
   "pygments_lexer": "ipython3",
   "version": "3.5.2"
  }
 },
 "nbformat": 4,
 "nbformat_minor": 1
}
