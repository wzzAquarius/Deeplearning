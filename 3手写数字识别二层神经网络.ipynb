{
 "cells": [
  {
   "cell_type": "code",
   "execution_count": 1,
   "metadata": {
    "collapsed": true
   },
   "outputs": [],
   "source": [
    "import tensorflow as tf\n",
    "import tensorflow.examples.tutorials.mnist.input_data as input_data"
   ]
  },
  {
   "cell_type": "code",
   "execution_count": 2,
   "metadata": {
    "collapsed": false
   },
   "outputs": [
    {
     "name": "stdout",
     "output_type": "stream",
     "text": [
      "Extracting G:/dldata/MNIST_data/train-images-idx3-ubyte.gz\n",
      "Extracting G:/dldata/MNIST_data/train-labels-idx1-ubyte.gz\n",
      "Extracting G:/dldata/MNIST_data/t10k-images-idx3-ubyte.gz\n",
      "Extracting G:/dldata/MNIST_data/t10k-labels-idx1-ubyte.gz\n"
     ]
    }
   ],
   "source": [
    "mnist = input_data.read_data_sets(\"G:/dldata/MNIST_data/\",one_hot=True)"
   ]
  },
  {
   "cell_type": "code",
   "execution_count": 3,
   "metadata": {
    "collapsed": true
   },
   "outputs": [],
   "source": [
    "x = tf.placeholder(tf.float32, [None, 784], name=\"X\")\n",
    "y = tf.placeholder(tf.float32, [None, 10], name=\"Y\") "
   ]
  },
  {
   "cell_type": "code",
   "execution_count": 10,
   "metadata": {
    "collapsed": false
   },
   "outputs": [],
   "source": [
    "H1_NN = 256 #第一层隐藏神经元为256个\n",
    "H2_NN = 64  #第一层隐藏神经元为64个\n",
    "\n",
    "#输入层-第1隐藏层参数和偏置项\n",
    "W1 = tf.Variable(tf.random_normal([784, H1_NN], stddev=0.1))\n",
    "b1 = tf.Variable(tf.zeros([H1_NN]))\n",
    "#第1隐藏层-第2隐藏层参数和偏置项\n",
    "W2 = tf.Variable(tf.random_normal([H1_NN, H2_NN], stddev=0.1))\n",
    "b2 = tf.Variable(tf.zeros([H2_NN]))\n",
    "#第2隐藏层-输出层参数和偏置项\n",
    "W3 = tf.Variable(tf.random_normal([H2_NN, 10], stddev=0.1))\n",
    "b3 = tf.Variable(tf.zeros([10]))"
   ]
  },
  {
   "cell_type": "code",
   "execution_count": 11,
   "metadata": {
    "collapsed": false
   },
   "outputs": [],
   "source": [
    "Y1 = tf.nn.relu(tf.matmul(x, W1) + b1) #计算第1隐藏层结果\n",
    "Y2 = tf.nn.relu(tf.matmul(Y1, W2) + b2) #计算第2隐藏层结果\n",
    "\n",
    "forward = tf.matmul(Y2, W3) + b3\n",
    "pred = tf.nn.softmax(forward)"
   ]
  },
  {
   "cell_type": "code",
   "execution_count": 12,
   "metadata": {
    "collapsed": false
   },
   "outputs": [],
   "source": [
    "loss_function = tf.reduce_mean(tf.nn.softmax_cross_entropy_with_logits(logits=forward, labels=y))"
   ]
  },
  {
   "cell_type": "code",
   "execution_count": 13,
   "metadata": {
    "collapsed": true
   },
   "outputs": [],
   "source": [
    "train_epochs = 40\n",
    "batch_size = 50\n",
    "total_batch = int(mnist.train.num_examples/batch_size)\n",
    "display_step = 1\n",
    "learning_rate = 0.01"
   ]
  },
  {
   "cell_type": "code",
   "execution_count": 14,
   "metadata": {
    "collapsed": false
   },
   "outputs": [],
   "source": [
    "optimizer = tf.train.AdamOptimizer(learning_rate).minimize(loss_function)"
   ]
  },
  {
   "cell_type": "code",
   "execution_count": 15,
   "metadata": {
    "collapsed": false
   },
   "outputs": [],
   "source": [
    "correct_prediction = tf.equal(tf.arg_max(pred, 1), tf.arg_max(y, 1))\n",
    "accuracy = tf.reduce_mean(tf.cast(correct_prediction,tf.float32))"
   ]
  },
  {
   "cell_type": "code",
   "execution_count": 17,
   "metadata": {
    "collapsed": false
   },
   "outputs": [
    {
     "name": "stdout",
     "output_type": "stream",
     "text": [
      "Train Epoch: 01 loss= 0.164144754 Accuracy= 0.9542\n",
      "Train Epoch: 02 loss= 0.146016955 Accuracy= 0.9612\n",
      "Train Epoch: 03 loss= 0.152981564 Accuracy= 0.964\n",
      "Train Epoch: 04 loss= 0.153740421 Accuracy= 0.9636\n",
      "Train Epoch: 05 loss= 0.142316148 Accuracy= 0.9656\n",
      "Train Epoch: 06 loss= 0.167852610 Accuracy= 0.9632\n",
      "Train Epoch: 07 loss= 0.177617460 Accuracy= 0.965\n",
      "Train Epoch: 08 loss= 0.183119133 Accuracy= 0.9658\n",
      "Train Epoch: 09 loss= 0.176678196 Accuracy= 0.968\n",
      "Train Epoch: 10 loss= 0.224361569 Accuracy= 0.9626\n",
      "Train Epoch: 11 loss= 0.185813993 Accuracy= 0.9704\n",
      "Train Epoch: 12 loss= 0.199623957 Accuracy= 0.9706\n",
      "Train Epoch: 13 loss= 0.176080123 Accuracy= 0.972\n",
      "Train Epoch: 14 loss= 0.208566263 Accuracy= 0.9634\n",
      "Train Epoch: 15 loss= 0.249438256 Accuracy= 0.9634\n",
      "Train Epoch: 16 loss= 0.192743659 Accuracy= 0.9704\n",
      "Train Epoch: 17 loss= 0.197229072 Accuracy= 0.9692\n",
      "Train Epoch: 18 loss= 0.221983641 Accuracy= 0.972\n",
      "Train Epoch: 19 loss= 0.224992529 Accuracy= 0.97\n",
      "Train Epoch: 20 loss= 0.199140787 Accuracy= 0.9684\n",
      "Train Epoch: 21 loss= 0.257685065 Accuracy= 0.9746\n",
      "Train Epoch: 22 loss= 0.271042287 Accuracy= 0.9716\n",
      "Train Epoch: 23 loss= 0.236035571 Accuracy= 0.9724\n",
      "Train Epoch: 24 loss= 0.196521729 Accuracy= 0.9748\n",
      "Train Epoch: 25 loss= 0.310769260 Accuracy= 0.9704\n",
      "Train Epoch: 26 loss= 0.249270633 Accuracy= 0.9716\n",
      "Train Epoch: 27 loss= 0.258310109 Accuracy= 0.9756\n",
      "Train Epoch: 28 loss= 0.193850532 Accuracy= 0.969\n",
      "Train Epoch: 29 loss= 0.292847276 Accuracy= 0.97\n",
      "Train Epoch: 30 loss= 0.378271669 Accuracy= 0.9686\n",
      "Train Epoch: 31 loss= 0.262074351 Accuracy= 0.97\n",
      "Train Epoch: 32 loss= 0.352861136 Accuracy= 0.9726\n",
      "Train Epoch: 33 loss= 0.341557324 Accuracy= 0.9716\n",
      "Train Epoch: 34 loss= 0.421653509 Accuracy= 0.9654\n",
      "Train Epoch: 35 loss= 0.405431002 Accuracy= 0.9718\n",
      "Train Epoch: 36 loss= 0.336829871 Accuracy= 0.9672\n",
      "Train Epoch: 37 loss= 0.387591153 Accuracy= 0.9682\n",
      "Train Epoch: 38 loss= 0.415300161 Accuracy= 0.9716\n",
      "Train Epoch: 39 loss= 0.367926061 Accuracy= 0.9724\n",
      "Train Epoch: 40 loss= 0.376986772 Accuracy= 0.9764\n",
      "Train Finished takes: 143.10\n"
     ]
    }
   ],
   "source": [
    "from time import time\n",
    "startTime = time()\n",
    "\n",
    "sess = tf.Session()\n",
    "sess.run(tf.global_variables_initializer())\n",
    "\n",
    "for epoch in range(train_epochs):\n",
    "    for batch in range(total_batch):\n",
    "        xs,ys = mnist.train.next_batch(batch_size)\n",
    "        sess.run(optimizer, feed_dict={x:xs, y:ys})\n",
    "    loss,acc = sess.run([loss_function,accuracy],\n",
    "                        feed_dict={x:mnist.validation.images,\n",
    "                                   y:mnist.validation.labels})\n",
    "    if (epoch+1) % display_step == 0:\n",
    "        print(\"Train Epoch:\", '%02d'% (epoch+1), \"loss=\", \"{:.9f}\".format(loss),\"Accuracy=\",\"{:.4}\".format(acc))\n",
    "\n",
    "duration = time() - startTime\n",
    "print(\"Train Finished takes:\",\"{:.2f}\".format(duration))"
   ]
  },
  {
   "cell_type": "code",
   "execution_count": 18,
   "metadata": {
    "collapsed": false
   },
   "outputs": [
    {
     "name": "stdout",
     "output_type": "stream",
     "text": [
      "Test Accuracy: 0.9725\n"
     ]
    }
   ],
   "source": [
    "#进行测试\n",
    "accu_test = sess.run(accuracy,feed_dict={x: mnist.test.images, y: mnist.test.labels})\n",
    "print(\"Test Accuracy:\",accu_test)"
   ]
  }
 ],
 "metadata": {
  "anaconda-cloud": {},
  "kernelspec": {
   "display_name": "Python [conda root]",
   "language": "python",
   "name": "conda-root-py"
  },
  "language_info": {
   "codemirror_mode": {
    "name": "ipython",
    "version": 3
   },
   "file_extension": ".py",
   "mimetype": "text/x-python",
   "name": "python",
   "nbconvert_exporter": "python",
   "pygments_lexer": "ipython3",
   "version": "3.5.2"
  }
 },
 "nbformat": 4,
 "nbformat_minor": 1
}
