{
 "cells": [
  {
   "cell_type": "code",
   "execution_count": 1,
   "metadata": {
    "collapsed": false
   },
   "outputs": [
    {
     "name": "stdout",
     "output_type": "stream",
     "text": [
      "Extracting G:/dldata/MNIST_data/train-images-idx3-ubyte.gz\n",
      "Extracting G:/dldata/MNIST_data/train-labels-idx1-ubyte.gz\n",
      "Extracting G:/dldata/MNIST_data/t10k-images-idx3-ubyte.gz\n",
      "Extracting G:/dldata/MNIST_data/t10k-labels-idx1-ubyte.gz\n"
     ]
    }
   ],
   "source": [
    "import tensorflow as tf\n",
    "import tensorflow.examples.tutorials.mnist.input_data as input_data\n",
    "import os\n",
    "mnist = input_data.read_data_sets(\"G:/dldata/MNIST_data/\",one_hot=True)"
   ]
  },
  {
   "cell_type": "code",
   "execution_count": 2,
   "metadata": {
    "collapsed": true
   },
   "outputs": [],
   "source": [
    "#定义全连接层函数\n",
    "def fcn_layer(inputs,             #输入数据\n",
    "              input_dim,          #输入神经元数量\n",
    "              output_dim,         #输出神经元数量\n",
    "              activation=None):   #激活函数\n",
    "    W = tf.Variable(tf.truncated_normal([input_dim, output_dim], stddev=0.1)) #以截断正态分布的随机数初始化W\n",
    "    b = tf.Variable(tf.zeros(output_dim))  #以0初始化b\n",
    "    \n",
    "    XWb = tf.matmul(inputs, W) + b  #j建立表达式：inputs * W + b\n",
    "    \n",
    "    if activation is None:  #默认不使用激活函数\n",
    "        outputs = XWb    #若传入激活函数，则对输出结果进行变换\n",
    "    else:\n",
    "        outputs = activation(XWb)\n",
    "    return outputs"
   ]
  },
  {
   "cell_type": "code",
   "execution_count": 3,
   "metadata": {
    "collapsed": false
   },
   "outputs": [],
   "source": [
    "#构建输入层\n",
    "x = tf.placeholder(tf.float32, [None, 784], name=\"X\")"
   ]
  },
  {
   "cell_type": "code",
   "execution_count": 4,
   "metadata": {
    "collapsed": false
   },
   "outputs": [],
   "source": [
    "###构建1隐层模型###\n",
    "\n",
    "H1_NN = 256\n",
    "\n",
    "#构建隐藏层1\n",
    "h1 = fcn_layer(inputs = x,\n",
    "               input_dim = 784,\n",
    "               output_dim = H1_NN,\n",
    "               activation = tf.nn.relu)\n",
    "#构建输出层\n",
    "forward = fcn_layer(inputs=h1,\n",
    "                    input_dim=H1_NN,\n",
    "                    output_dim=10,\n",
    "                    activation=None)\n",
    "pred = tf.nn.softmax(forward)"
   ]
  },
  {
   "cell_type": "code",
   "execution_count": 5,
   "metadata": {
    "collapsed": true
   },
   "outputs": [],
   "source": [
    "#定义标签数据占位符\n",
    "y = tf.placeholder(tf.float32, [None, 10], name=\"Y\")"
   ]
  },
  {
   "cell_type": "code",
   "execution_count": 6,
   "metadata": {
    "collapsed": true
   },
   "outputs": [],
   "source": [
    "correct_prediction = tf.equal(tf.arg_max(pred, 1), tf.arg_max(y, 1))\n",
    "accuracy = tf.reduce_mean(tf.cast(correct_prediction,tf.float32))"
   ]
  },
  {
   "cell_type": "code",
   "execution_count": 7,
   "metadata": {
    "collapsed": false
   },
   "outputs": [
    {
     "name": "stdout",
     "output_type": "stream",
     "text": [
      "INFO:tensorflow:Restoring parameters from G:/dldata/ckpt_dir/mnist_h256_model.ckpt\n",
      "Restore model fromG:/dldata/ckpt_dir/mnist_h256_model.ckpt\n",
      "Test Accuracy: 0.9703\n"
     ]
    }
   ],
   "source": [
    "#指定模型文件的存放目录\n",
    "ckpt_dir = \"G:/dldata/ckpt_dir/\"\n",
    "\n",
    "#创建saver\n",
    "saver = tf.train.Saver()\n",
    "\n",
    "from time import time\n",
    "startTime = time()\n",
    "\n",
    "sess = tf.Session()\n",
    "sess.run(tf.global_variables_initializer())\n",
    "\n",
    "ckpt = tf.train.get_checkpoint_state(ckpt_dir) #找出最新的模型\n",
    "\n",
    "if ckpt and ckpt.model_checkpoint_path:\n",
    "    saver.restore(sess,ckpt.model_checkpoint_path)\n",
    "    print(\"Restore model from\" + ckpt.model_checkpoint_path)\n",
    "\n",
    "accu_test = sess.run(accuracy,feed_dict={x: mnist.test.images, y: mnist.test.labels})\n",
    "print(\"Test Accuracy:\",accu_test)"
   ]
  }
 ],
 "metadata": {
  "anaconda-cloud": {},
  "kernelspec": {
   "display_name": "Python [conda root]",
   "language": "python",
   "name": "conda-root-py"
  },
  "language_info": {
   "codemirror_mode": {
    "name": "ipython",
    "version": 3
   },
   "file_extension": ".py",
   "mimetype": "text/x-python",
   "name": "python",
   "nbconvert_exporter": "python",
   "pygments_lexer": "ipython3",
   "version": "3.5.2"
  }
 },
 "nbformat": 4,
 "nbformat_minor": 1
}
