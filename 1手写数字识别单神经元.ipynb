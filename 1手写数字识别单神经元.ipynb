{
 "cells": [
  {
   "cell_type": "code",
   "execution_count": 1,
   "metadata": {
    "collapsed": false
   },
   "outputs": [],
   "source": [
    "import tensorflow as tf\n",
    "import tensorflow.examples.tutorials.mnist.input_data as input_data\n",
    "import matplotlib.pyplot as plt\n",
    "import numpy as np"
   ]
  },
  {
   "cell_type": "code",
   "execution_count": 2,
   "metadata": {
    "collapsed": false
   },
   "outputs": [
    {
     "name": "stdout",
     "output_type": "stream",
     "text": [
      "Extracting G:/dldata/MNIST_data/train-images-idx3-ubyte.gz\n",
      "Extracting G:/dldata/MNIST_data/train-labels-idx1-ubyte.gz\n",
      "Extracting G:/dldata/MNIST_data/t10k-images-idx3-ubyte.gz\n",
      "Extracting G:/dldata/MNIST_data/t10k-labels-idx1-ubyte.gz\n"
     ]
    }
   ],
   "source": [
    "mnist = input_data.read_data_sets(\"G:/dldata/MNIST_data/\",one_hot=True)  #one_hot=True独热编码"
   ]
  },
  {
   "cell_type": "code",
   "execution_count": 3,
   "metadata": {
    "collapsed": false
   },
   "outputs": [
    {
     "name": "stdout",
     "output_type": "stream",
     "text": [
      "训练集 train数量： 55000 ;  验证集 validation数量： 5000 ;  测试集 test数量： 10000\n"
     ]
    }
   ],
   "source": [
    "print('训练集 train数量：',mnist.train.num_examples,\n",
    "      ';  验证集 validation数量：', mnist.validation.num_examples,\n",
    "      ';  测试集 test数量：',mnist.test.num_examples)"
   ]
  },
  {
   "cell_type": "code",
   "execution_count": 4,
   "metadata": {
    "collapsed": false
   },
   "outputs": [
    {
     "name": "stdout",
     "output_type": "stream",
     "text": [
      "train images shape: (55000, 784) labels shape: (55000, 10)\n"
     ]
    }
   ],
   "source": [
    "print('train images shape:',mnist.train.images.shape,  #55000条数据，每条数据长784（28*28）\n",
    "      'labels shape:',mnist.train.labels.shape)  #55000条数据， 10分类 One Hot编码"
   ]
  },
  {
   "cell_type": "code",
   "execution_count": 5,
   "metadata": {
    "collapsed": false
   },
   "outputs": [
    {
     "data": {
      "text/plain": [
       "784"
      ]
     },
     "execution_count": 5,
     "metadata": {},
     "output_type": "execute_result"
    }
   ],
   "source": [
    "len(mnist.train.images[0])"
   ]
  },
  {
   "cell_type": "code",
   "execution_count": 6,
   "metadata": {
    "collapsed": false
   },
   "outputs": [
    {
     "data": {
      "text/plain": [
       "(784,)"
      ]
     },
     "execution_count": 6,
     "metadata": {},
     "output_type": "execute_result"
    }
   ],
   "source": [
    "mnist.train.images[0].shape"
   ]
  },
  {
   "cell_type": "code",
   "execution_count": 7,
   "metadata": {
    "collapsed": false
   },
   "outputs": [
    {
     "data": {
      "text/plain": [
       "array([ 0.        ,  0.        ,  0.        ,  0.        ,  0.        ,\n",
       "        0.        ,  0.        ,  0.        ,  0.        ,  0.        ,\n",
       "        0.        ,  0.        ,  0.        ,  0.        ,  0.        ,\n",
       "        0.        ,  0.        ,  0.        ,  0.        ,  0.        ,\n",
       "        0.        ,  0.        ,  0.        ,  0.        ,  0.        ,\n",
       "        0.        ,  0.        ,  0.        ,  0.        ,  0.        ,\n",
       "        0.        ,  0.        ,  0.        ,  0.        ,  0.        ,\n",
       "        0.        ,  0.        ,  0.        ,  0.        ,  0.        ,\n",
       "        0.        ,  0.        ,  0.        ,  0.        ,  0.        ,\n",
       "        0.        ,  0.        ,  0.        ,  0.        ,  0.        ,\n",
       "        0.        ,  0.        ,  0.        ,  0.        ,  0.        ,\n",
       "        0.        ,  0.        ,  0.        ,  0.        ,  0.        ,\n",
       "        0.        ,  0.        ,  0.        ,  0.        ,  0.        ,\n",
       "        0.        ,  0.        ,  0.        ,  0.        ,  0.        ,\n",
       "        0.        ,  0.        ,  0.        ,  0.        ,  0.        ,\n",
       "        0.        ,  0.        ,  0.        ,  0.        ,  0.        ,\n",
       "        0.        ,  0.        ,  0.        ,  0.        ,  0.        ,\n",
       "        0.        ,  0.        ,  0.        ,  0.        ,  0.        ,\n",
       "        0.        ,  0.        ,  0.        ,  0.        ,  0.        ,\n",
       "        0.        ,  0.        ,  0.        ,  0.        ,  0.        ,\n",
       "        0.        ,  0.        ,  0.        ,  0.        ,  0.        ,\n",
       "        0.        ,  0.        ,  0.        ,  0.        ,  0.        ,\n",
       "        0.        ,  0.        ,  0.        ,  0.        ,  0.        ,\n",
       "        0.        ,  0.        ,  0.        ,  0.        ,  0.        ,\n",
       "        0.        ,  0.        ,  0.        ,  0.        ,  0.        ,\n",
       "        0.        ,  0.        ,  0.        ,  0.        ,  0.        ,\n",
       "        0.        ,  0.        ,  0.        ,  0.        ,  0.        ,\n",
       "        0.        ,  0.        ,  0.        ,  0.        ,  0.        ,\n",
       "        0.        ,  0.        ,  0.        ,  0.        ,  0.        ,\n",
       "        0.        ,  0.        ,  0.        ,  0.        ,  0.        ,\n",
       "        0.        ,  0.        ,  0.        ,  0.        ,  0.        ,\n",
       "        0.        ,  0.        ,  0.        ,  0.        ,  0.        ,\n",
       "        0.        ,  0.        ,  0.        ,  0.        ,  0.        ,\n",
       "        0.        ,  0.        ,  0.        ,  0.        ,  0.        ,\n",
       "        0.        ,  0.        ,  0.        ,  0.        ,  0.        ,\n",
       "        0.        ,  0.        ,  0.        ,  0.        ,  0.        ,\n",
       "        0.        ,  0.        ,  0.        ,  0.        ,  0.        ,\n",
       "        0.        ,  0.        ,  0.        ,  0.        ,  0.        ,\n",
       "        0.        ,  0.        ,  0.        ,  0.        ,  0.        ,\n",
       "        0.        ,  0.        ,  0.        ,  0.        ,  0.        ,\n",
       "        0.        ,  0.        ,  0.        ,  0.        ,  0.        ,\n",
       "        0.        ,  0.        ,  0.38039219,  0.37647063,  0.3019608 ,\n",
       "        0.46274513,  0.2392157 ,  0.        ,  0.        ,  0.        ,\n",
       "        0.        ,  0.        ,  0.        ,  0.        ,  0.        ,\n",
       "        0.        ,  0.        ,  0.        ,  0.        ,  0.        ,\n",
       "        0.        ,  0.        ,  0.35294119,  0.5411765 ,  0.92156869,\n",
       "        0.92156869,  0.92156869,  0.92156869,  0.92156869,  0.92156869,\n",
       "        0.98431379,  0.98431379,  0.97254908,  0.99607849,  0.96078438,\n",
       "        0.92156869,  0.74509805,  0.08235294,  0.        ,  0.        ,\n",
       "        0.        ,  0.        ,  0.        ,  0.        ,  0.        ,\n",
       "        0.        ,  0.        ,  0.        ,  0.        ,  0.54901963,\n",
       "        0.98431379,  0.99607849,  0.99607849,  0.99607849,  0.99607849,\n",
       "        0.99607849,  0.99607849,  0.99607849,  0.99607849,  0.99607849,\n",
       "        0.99607849,  0.99607849,  0.99607849,  0.99607849,  0.99607849,\n",
       "        0.74117649,  0.09019608,  0.        ,  0.        ,  0.        ,\n",
       "        0.        ,  0.        ,  0.        ,  0.        ,  0.        ,\n",
       "        0.        ,  0.        ,  0.88627458,  0.99607849,  0.81568635,\n",
       "        0.78039223,  0.78039223,  0.78039223,  0.78039223,  0.54509807,\n",
       "        0.2392157 ,  0.2392157 ,  0.2392157 ,  0.2392157 ,  0.2392157 ,\n",
       "        0.50196081,  0.8705883 ,  0.99607849,  0.99607849,  0.74117649,\n",
       "        0.08235294,  0.        ,  0.        ,  0.        ,  0.        ,\n",
       "        0.        ,  0.        ,  0.        ,  0.        ,  0.        ,\n",
       "        0.14901961,  0.32156864,  0.0509804 ,  0.        ,  0.        ,\n",
       "        0.        ,  0.        ,  0.        ,  0.        ,  0.        ,\n",
       "        0.        ,  0.        ,  0.        ,  0.        ,  0.13333334,\n",
       "        0.83529419,  0.99607849,  0.99607849,  0.45098042,  0.        ,\n",
       "        0.        ,  0.        ,  0.        ,  0.        ,  0.        ,\n",
       "        0.        ,  0.        ,  0.        ,  0.        ,  0.        ,\n",
       "        0.        ,  0.        ,  0.        ,  0.        ,  0.        ,\n",
       "        0.        ,  0.        ,  0.        ,  0.        ,  0.        ,\n",
       "        0.        ,  0.        ,  0.        ,  0.32941177,  0.99607849,\n",
       "        0.99607849,  0.91764712,  0.        ,  0.        ,  0.        ,\n",
       "        0.        ,  0.        ,  0.        ,  0.        ,  0.        ,\n",
       "        0.        ,  0.        ,  0.        ,  0.        ,  0.        ,\n",
       "        0.        ,  0.        ,  0.        ,  0.        ,  0.        ,\n",
       "        0.        ,  0.        ,  0.        ,  0.        ,  0.        ,\n",
       "        0.        ,  0.32941177,  0.99607849,  0.99607849,  0.91764712,\n",
       "        0.        ,  0.        ,  0.        ,  0.        ,  0.        ,\n",
       "        0.        ,  0.        ,  0.        ,  0.        ,  0.        ,\n",
       "        0.        ,  0.        ,  0.        ,  0.        ,  0.        ,\n",
       "        0.        ,  0.        ,  0.        ,  0.        ,  0.        ,\n",
       "        0.        ,  0.        ,  0.        ,  0.41568631,  0.6156863 ,\n",
       "        0.99607849,  0.99607849,  0.95294124,  0.20000002,  0.        ,\n",
       "        0.        ,  0.        ,  0.        ,  0.        ,  0.        ,\n",
       "        0.        ,  0.        ,  0.        ,  0.        ,  0.        ,\n",
       "        0.        ,  0.        ,  0.        ,  0.        ,  0.        ,\n",
       "        0.        ,  0.09803922,  0.45882356,  0.89411771,  0.89411771,\n",
       "        0.89411771,  0.99215692,  0.99607849,  0.99607849,  0.99607849,\n",
       "        0.99607849,  0.94117653,  0.        ,  0.        ,  0.        ,\n",
       "        0.        ,  0.        ,  0.        ,  0.        ,  0.        ,\n",
       "        0.        ,  0.        ,  0.        ,  0.        ,  0.        ,\n",
       "        0.        ,  0.        ,  0.26666668,  0.4666667 ,  0.86274517,\n",
       "        0.99607849,  0.99607849,  0.99607849,  0.99607849,  0.99607849,\n",
       "        0.99607849,  0.99607849,  0.99607849,  0.99607849,  0.55686277,\n",
       "        0.        ,  0.        ,  0.        ,  0.        ,  0.        ,\n",
       "        0.        ,  0.        ,  0.        ,  0.        ,  0.        ,\n",
       "        0.        ,  0.        ,  0.        ,  0.14509805,  0.73333335,\n",
       "        0.99215692,  0.99607849,  0.99607849,  0.99607849,  0.87450987,\n",
       "        0.80784321,  0.80784321,  0.29411766,  0.26666668,  0.84313732,\n",
       "        0.99607849,  0.99607849,  0.45882356,  0.        ,  0.        ,\n",
       "        0.        ,  0.        ,  0.        ,  0.        ,  0.        ,\n",
       "        0.        ,  0.        ,  0.        ,  0.        ,  0.        ,\n",
       "        0.44313729,  0.8588236 ,  0.99607849,  0.94901967,  0.89019614,\n",
       "        0.45098042,  0.34901962,  0.12156864,  0.        ,  0.        ,\n",
       "        0.        ,  0.        ,  0.7843138 ,  0.99607849,  0.9450981 ,\n",
       "        0.16078432,  0.        ,  0.        ,  0.        ,  0.        ,\n",
       "        0.        ,  0.        ,  0.        ,  0.        ,  0.        ,\n",
       "        0.        ,  0.        ,  0.        ,  0.66274512,  0.99607849,\n",
       "        0.6901961 ,  0.24313727,  0.        ,  0.        ,  0.        ,\n",
       "        0.        ,  0.        ,  0.        ,  0.        ,  0.18823531,\n",
       "        0.90588242,  0.99607849,  0.91764712,  0.        ,  0.        ,\n",
       "        0.        ,  0.        ,  0.        ,  0.        ,  0.        ,\n",
       "        0.        ,  0.        ,  0.        ,  0.        ,  0.        ,\n",
       "        0.        ,  0.07058824,  0.48627454,  0.        ,  0.        ,\n",
       "        0.        ,  0.        ,  0.        ,  0.        ,  0.        ,\n",
       "        0.        ,  0.        ,  0.32941177,  0.99607849,  0.99607849,\n",
       "        0.65098041,  0.        ,  0.        ,  0.        ,  0.        ,\n",
       "        0.        ,  0.        ,  0.        ,  0.        ,  0.        ,\n",
       "        0.        ,  0.        ,  0.        ,  0.        ,  0.        ,\n",
       "        0.        ,  0.        ,  0.        ,  0.        ,  0.        ,\n",
       "        0.        ,  0.        ,  0.        ,  0.        ,  0.        ,\n",
       "        0.54509807,  0.99607849,  0.9333334 ,  0.22352943,  0.        ,\n",
       "        0.        ,  0.        ,  0.        ,  0.        ,  0.        ,\n",
       "        0.        ,  0.        ,  0.        ,  0.        ,  0.        ,\n",
       "        0.        ,  0.        ,  0.        ,  0.        ,  0.        ,\n",
       "        0.        ,  0.        ,  0.        ,  0.        ,  0.        ,\n",
       "        0.        ,  0.        ,  0.82352948,  0.98039222,  0.99607849,\n",
       "        0.65882355,  0.        ,  0.        ,  0.        ,  0.        ,\n",
       "        0.        ,  0.        ,  0.        ,  0.        ,  0.        ,\n",
       "        0.        ,  0.        ,  0.        ,  0.        ,  0.        ,\n",
       "        0.        ,  0.        ,  0.        ,  0.        ,  0.        ,\n",
       "        0.        ,  0.        ,  0.        ,  0.        ,  0.        ,\n",
       "        0.94901967,  0.99607849,  0.93725497,  0.22352943,  0.        ,\n",
       "        0.        ,  0.        ,  0.        ,  0.        ,  0.        ,\n",
       "        0.        ,  0.        ,  0.        ,  0.        ,  0.        ,\n",
       "        0.        ,  0.        ,  0.        ,  0.        ,  0.        ,\n",
       "        0.        ,  0.        ,  0.        ,  0.        ,  0.        ,\n",
       "        0.        ,  0.        ,  0.34901962,  0.98431379,  0.9450981 ,\n",
       "        0.33725491,  0.        ,  0.        ,  0.        ,  0.        ,\n",
       "        0.        ,  0.        ,  0.        ,  0.        ,  0.        ,\n",
       "        0.        ,  0.        ,  0.        ,  0.        ,  0.        ,\n",
       "        0.        ,  0.        ,  0.        ,  0.        ,  0.        ,\n",
       "        0.        ,  0.        ,  0.        ,  0.        ,  0.01960784,\n",
       "        0.80784321,  0.96470594,  0.6156863 ,  0.        ,  0.        ,\n",
       "        0.        ,  0.        ,  0.        ,  0.        ,  0.        ,\n",
       "        0.        ,  0.        ,  0.        ,  0.        ,  0.        ,\n",
       "        0.        ,  0.        ,  0.        ,  0.        ,  0.        ,\n",
       "        0.        ,  0.        ,  0.        ,  0.        ,  0.        ,\n",
       "        0.        ,  0.        ,  0.01568628,  0.45882356,  0.27058825,\n",
       "        0.        ,  0.        ,  0.        ,  0.        ,  0.        ,\n",
       "        0.        ,  0.        ,  0.        ,  0.        ,  0.        ,\n",
       "        0.        ,  0.        ,  0.        ,  0.        ,  0.        ,\n",
       "        0.        ,  0.        ,  0.        ,  0.        ,  0.        ,\n",
       "        0.        ,  0.        ,  0.        ,  0.        ,  0.        ,\n",
       "        0.        ,  0.        ,  0.        ,  0.        ,  0.        ,\n",
       "        0.        ,  0.        ,  0.        ,  0.        ,  0.        ,\n",
       "        0.        ,  0.        ,  0.        ,  0.        ], dtype=float32)"
      ]
     },
     "execution_count": 7,
     "metadata": {},
     "output_type": "execute_result"
    }
   ],
   "source": [
    "mnist.train.images[0]"
   ]
  },
  {
   "cell_type": "code",
   "execution_count": 8,
   "metadata": {
    "collapsed": false
   },
   "outputs": [
    {
     "data": {
      "text/plain": [
       "array([[ 0.        ,  0.        ,  0.        ,  0.        ,  0.        ,\n",
       "         0.        ,  0.        ,  0.        ,  0.        ,  0.        ,\n",
       "         0.        ,  0.        ,  0.        ,  0.        ,  0.        ,\n",
       "         0.        ,  0.        ,  0.        ,  0.        ,  0.        ,\n",
       "         0.        ,  0.        ,  0.        ,  0.        ,  0.        ,\n",
       "         0.        ,  0.        ,  0.        ],\n",
       "       [ 0.        ,  0.        ,  0.        ,  0.        ,  0.        ,\n",
       "         0.        ,  0.        ,  0.        ,  0.        ,  0.        ,\n",
       "         0.        ,  0.        ,  0.        ,  0.        ,  0.        ,\n",
       "         0.        ,  0.        ,  0.        ,  0.        ,  0.        ,\n",
       "         0.        ,  0.        ,  0.        ,  0.        ,  0.        ,\n",
       "         0.        ,  0.        ,  0.        ],\n",
       "       [ 0.        ,  0.        ,  0.        ,  0.        ,  0.        ,\n",
       "         0.        ,  0.        ,  0.        ,  0.        ,  0.        ,\n",
       "         0.        ,  0.        ,  0.        ,  0.        ,  0.        ,\n",
       "         0.        ,  0.        ,  0.        ,  0.        ,  0.        ,\n",
       "         0.        ,  0.        ,  0.        ,  0.        ,  0.        ,\n",
       "         0.        ,  0.        ,  0.        ],\n",
       "       [ 0.        ,  0.        ,  0.        ,  0.        ,  0.        ,\n",
       "         0.        ,  0.        ,  0.        ,  0.        ,  0.        ,\n",
       "         0.        ,  0.        ,  0.        ,  0.        ,  0.        ,\n",
       "         0.        ,  0.        ,  0.        ,  0.        ,  0.        ,\n",
       "         0.        ,  0.        ,  0.        ,  0.        ,  0.        ,\n",
       "         0.        ,  0.        ,  0.        ],\n",
       "       [ 0.        ,  0.        ,  0.        ,  0.        ,  0.        ,\n",
       "         0.        ,  0.        ,  0.        ,  0.        ,  0.        ,\n",
       "         0.        ,  0.        ,  0.        ,  0.        ,  0.        ,\n",
       "         0.        ,  0.        ,  0.        ,  0.        ,  0.        ,\n",
       "         0.        ,  0.        ,  0.        ,  0.        ,  0.        ,\n",
       "         0.        ,  0.        ,  0.        ],\n",
       "       [ 0.        ,  0.        ,  0.        ,  0.        ,  0.        ,\n",
       "         0.        ,  0.        ,  0.        ,  0.        ,  0.        ,\n",
       "         0.        ,  0.        ,  0.        ,  0.        ,  0.        ,\n",
       "         0.        ,  0.        ,  0.        ,  0.        ,  0.        ,\n",
       "         0.        ,  0.        ,  0.        ,  0.        ,  0.        ,\n",
       "         0.        ,  0.        ,  0.        ],\n",
       "       [ 0.        ,  0.        ,  0.        ,  0.        ,  0.        ,\n",
       "         0.        ,  0.        ,  0.        ,  0.        ,  0.        ,\n",
       "         0.        ,  0.        ,  0.        ,  0.        ,  0.        ,\n",
       "         0.        ,  0.        ,  0.        ,  0.        ,  0.        ,\n",
       "         0.        ,  0.        ,  0.        ,  0.        ,  0.        ,\n",
       "         0.        ,  0.        ,  0.        ],\n",
       "       [ 0.        ,  0.        ,  0.        ,  0.        ,  0.        ,\n",
       "         0.        ,  0.        ,  0.        ,  0.        ,  0.        ,\n",
       "         0.        ,  0.38039219,  0.37647063,  0.3019608 ,  0.46274513,\n",
       "         0.2392157 ,  0.        ,  0.        ,  0.        ,  0.        ,\n",
       "         0.        ,  0.        ,  0.        ,  0.        ,  0.        ,\n",
       "         0.        ,  0.        ,  0.        ],\n",
       "       [ 0.        ,  0.        ,  0.        ,  0.35294119,  0.5411765 ,\n",
       "         0.92156869,  0.92156869,  0.92156869,  0.92156869,  0.92156869,\n",
       "         0.92156869,  0.98431379,  0.98431379,  0.97254908,  0.99607849,\n",
       "         0.96078438,  0.92156869,  0.74509805,  0.08235294,  0.        ,\n",
       "         0.        ,  0.        ,  0.        ,  0.        ,  0.        ,\n",
       "         0.        ,  0.        ,  0.        ],\n",
       "       [ 0.        ,  0.        ,  0.54901963,  0.98431379,  0.99607849,\n",
       "         0.99607849,  0.99607849,  0.99607849,  0.99607849,  0.99607849,\n",
       "         0.99607849,  0.99607849,  0.99607849,  0.99607849,  0.99607849,\n",
       "         0.99607849,  0.99607849,  0.99607849,  0.74117649,  0.09019608,\n",
       "         0.        ,  0.        ,  0.        ,  0.        ,  0.        ,\n",
       "         0.        ,  0.        ,  0.        ],\n",
       "       [ 0.        ,  0.        ,  0.88627458,  0.99607849,  0.81568635,\n",
       "         0.78039223,  0.78039223,  0.78039223,  0.78039223,  0.54509807,\n",
       "         0.2392157 ,  0.2392157 ,  0.2392157 ,  0.2392157 ,  0.2392157 ,\n",
       "         0.50196081,  0.8705883 ,  0.99607849,  0.99607849,  0.74117649,\n",
       "         0.08235294,  0.        ,  0.        ,  0.        ,  0.        ,\n",
       "         0.        ,  0.        ,  0.        ],\n",
       "       [ 0.        ,  0.        ,  0.14901961,  0.32156864,  0.0509804 ,\n",
       "         0.        ,  0.        ,  0.        ,  0.        ,  0.        ,\n",
       "         0.        ,  0.        ,  0.        ,  0.        ,  0.        ,\n",
       "         0.        ,  0.13333334,  0.83529419,  0.99607849,  0.99607849,\n",
       "         0.45098042,  0.        ,  0.        ,  0.        ,  0.        ,\n",
       "         0.        ,  0.        ,  0.        ],\n",
       "       [ 0.        ,  0.        ,  0.        ,  0.        ,  0.        ,\n",
       "         0.        ,  0.        ,  0.        ,  0.        ,  0.        ,\n",
       "         0.        ,  0.        ,  0.        ,  0.        ,  0.        ,\n",
       "         0.        ,  0.        ,  0.32941177,  0.99607849,  0.99607849,\n",
       "         0.91764712,  0.        ,  0.        ,  0.        ,  0.        ,\n",
       "         0.        ,  0.        ,  0.        ],\n",
       "       [ 0.        ,  0.        ,  0.        ,  0.        ,  0.        ,\n",
       "         0.        ,  0.        ,  0.        ,  0.        ,  0.        ,\n",
       "         0.        ,  0.        ,  0.        ,  0.        ,  0.        ,\n",
       "         0.        ,  0.        ,  0.32941177,  0.99607849,  0.99607849,\n",
       "         0.91764712,  0.        ,  0.        ,  0.        ,  0.        ,\n",
       "         0.        ,  0.        ,  0.        ],\n",
       "       [ 0.        ,  0.        ,  0.        ,  0.        ,  0.        ,\n",
       "         0.        ,  0.        ,  0.        ,  0.        ,  0.        ,\n",
       "         0.        ,  0.        ,  0.        ,  0.        ,  0.        ,\n",
       "         0.        ,  0.41568631,  0.6156863 ,  0.99607849,  0.99607849,\n",
       "         0.95294124,  0.20000002,  0.        ,  0.        ,  0.        ,\n",
       "         0.        ,  0.        ,  0.        ],\n",
       "       [ 0.        ,  0.        ,  0.        ,  0.        ,  0.        ,\n",
       "         0.        ,  0.        ,  0.        ,  0.        ,  0.        ,\n",
       "         0.        ,  0.09803922,  0.45882356,  0.89411771,  0.89411771,\n",
       "         0.89411771,  0.99215692,  0.99607849,  0.99607849,  0.99607849,\n",
       "         0.99607849,  0.94117653,  0.        ,  0.        ,  0.        ,\n",
       "         0.        ,  0.        ,  0.        ],\n",
       "       [ 0.        ,  0.        ,  0.        ,  0.        ,  0.        ,\n",
       "         0.        ,  0.        ,  0.        ,  0.        ,  0.26666668,\n",
       "         0.4666667 ,  0.86274517,  0.99607849,  0.99607849,  0.99607849,\n",
       "         0.99607849,  0.99607849,  0.99607849,  0.99607849,  0.99607849,\n",
       "         0.99607849,  0.55686277,  0.        ,  0.        ,  0.        ,\n",
       "         0.        ,  0.        ,  0.        ],\n",
       "       [ 0.        ,  0.        ,  0.        ,  0.        ,  0.        ,\n",
       "         0.        ,  0.        ,  0.14509805,  0.73333335,  0.99215692,\n",
       "         0.99607849,  0.99607849,  0.99607849,  0.87450987,  0.80784321,\n",
       "         0.80784321,  0.29411766,  0.26666668,  0.84313732,  0.99607849,\n",
       "         0.99607849,  0.45882356,  0.        ,  0.        ,  0.        ,\n",
       "         0.        ,  0.        ,  0.        ],\n",
       "       [ 0.        ,  0.        ,  0.        ,  0.        ,  0.        ,\n",
       "         0.        ,  0.44313729,  0.8588236 ,  0.99607849,  0.94901967,\n",
       "         0.89019614,  0.45098042,  0.34901962,  0.12156864,  0.        ,\n",
       "         0.        ,  0.        ,  0.        ,  0.7843138 ,  0.99607849,\n",
       "         0.9450981 ,  0.16078432,  0.        ,  0.        ,  0.        ,\n",
       "         0.        ,  0.        ,  0.        ],\n",
       "       [ 0.        ,  0.        ,  0.        ,  0.        ,  0.        ,\n",
       "         0.        ,  0.66274512,  0.99607849,  0.6901961 ,  0.24313727,\n",
       "         0.        ,  0.        ,  0.        ,  0.        ,  0.        ,\n",
       "         0.        ,  0.        ,  0.18823531,  0.90588242,  0.99607849,\n",
       "         0.91764712,  0.        ,  0.        ,  0.        ,  0.        ,\n",
       "         0.        ,  0.        ,  0.        ],\n",
       "       [ 0.        ,  0.        ,  0.        ,  0.        ,  0.        ,\n",
       "         0.        ,  0.07058824,  0.48627454,  0.        ,  0.        ,\n",
       "         0.        ,  0.        ,  0.        ,  0.        ,  0.        ,\n",
       "         0.        ,  0.        ,  0.32941177,  0.99607849,  0.99607849,\n",
       "         0.65098041,  0.        ,  0.        ,  0.        ,  0.        ,\n",
       "         0.        ,  0.        ,  0.        ],\n",
       "       [ 0.        ,  0.        ,  0.        ,  0.        ,  0.        ,\n",
       "         0.        ,  0.        ,  0.        ,  0.        ,  0.        ,\n",
       "         0.        ,  0.        ,  0.        ,  0.        ,  0.        ,\n",
       "         0.        ,  0.        ,  0.54509807,  0.99607849,  0.9333334 ,\n",
       "         0.22352943,  0.        ,  0.        ,  0.        ,  0.        ,\n",
       "         0.        ,  0.        ,  0.        ],\n",
       "       [ 0.        ,  0.        ,  0.        ,  0.        ,  0.        ,\n",
       "         0.        ,  0.        ,  0.        ,  0.        ,  0.        ,\n",
       "         0.        ,  0.        ,  0.        ,  0.        ,  0.        ,\n",
       "         0.        ,  0.82352948,  0.98039222,  0.99607849,  0.65882355,\n",
       "         0.        ,  0.        ,  0.        ,  0.        ,  0.        ,\n",
       "         0.        ,  0.        ,  0.        ],\n",
       "       [ 0.        ,  0.        ,  0.        ,  0.        ,  0.        ,\n",
       "         0.        ,  0.        ,  0.        ,  0.        ,  0.        ,\n",
       "         0.        ,  0.        ,  0.        ,  0.        ,  0.        ,\n",
       "         0.        ,  0.94901967,  0.99607849,  0.93725497,  0.22352943,\n",
       "         0.        ,  0.        ,  0.        ,  0.        ,  0.        ,\n",
       "         0.        ,  0.        ,  0.        ],\n",
       "       [ 0.        ,  0.        ,  0.        ,  0.        ,  0.        ,\n",
       "         0.        ,  0.        ,  0.        ,  0.        ,  0.        ,\n",
       "         0.        ,  0.        ,  0.        ,  0.        ,  0.        ,\n",
       "         0.34901962,  0.98431379,  0.9450981 ,  0.33725491,  0.        ,\n",
       "         0.        ,  0.        ,  0.        ,  0.        ,  0.        ,\n",
       "         0.        ,  0.        ,  0.        ],\n",
       "       [ 0.        ,  0.        ,  0.        ,  0.        ,  0.        ,\n",
       "         0.        ,  0.        ,  0.        ,  0.        ,  0.        ,\n",
       "         0.        ,  0.        ,  0.        ,  0.        ,  0.01960784,\n",
       "         0.80784321,  0.96470594,  0.6156863 ,  0.        ,  0.        ,\n",
       "         0.        ,  0.        ,  0.        ,  0.        ,  0.        ,\n",
       "         0.        ,  0.        ,  0.        ],\n",
       "       [ 0.        ,  0.        ,  0.        ,  0.        ,  0.        ,\n",
       "         0.        ,  0.        ,  0.        ,  0.        ,  0.        ,\n",
       "         0.        ,  0.        ,  0.        ,  0.        ,  0.01568628,\n",
       "         0.45882356,  0.27058825,  0.        ,  0.        ,  0.        ,\n",
       "         0.        ,  0.        ,  0.        ,  0.        ,  0.        ,\n",
       "         0.        ,  0.        ,  0.        ],\n",
       "       [ 0.        ,  0.        ,  0.        ,  0.        ,  0.        ,\n",
       "         0.        ,  0.        ,  0.        ,  0.        ,  0.        ,\n",
       "         0.        ,  0.        ,  0.        ,  0.        ,  0.        ,\n",
       "         0.        ,  0.        ,  0.        ,  0.        ,  0.        ,\n",
       "         0.        ,  0.        ,  0.        ,  0.        ,  0.        ,\n",
       "         0.        ,  0.        ,  0.        ]], dtype=float32)"
      ]
     },
     "execution_count": 8,
     "metadata": {},
     "output_type": "execute_result"
    }
   ],
   "source": [
    "mnist.train.images[0].reshape(28,28)"
   ]
  },
  {
   "cell_type": "code",
   "execution_count": 31,
   "metadata": {
    "collapsed": true
   },
   "outputs": [],
   "source": [
    "def plot_image(image):\n",
    "    plt.imshow(image.reshape(28,28),cmap='binary')\n",
    "    plt.show()"
   ]
  },
  {
   "cell_type": "code",
   "execution_count": 37,
   "metadata": {
    "collapsed": false
   },
   "outputs": [
    {
     "data": {
      "image/png": "[encoded data removed]",
      "text/plain": [
       "<matplotlib.figure.Figure at 0x2c03f8506d8>"
      ]
     },
     "metadata": {},
     "output_type": "display_data"
    }
   ],
   "source": [
    "plot_image(mnist.train.images[0])"
   ]
  },
  {
   "cell_type": "code",
   "execution_count": 11,
   "metadata": {
    "collapsed": false
   },
   "outputs": [
    {
     "data": {
      "text/plain": [
       "array([ 0.,  0.,  0.,  1.,  0.,  0.,  0.,  0.,  0.,  0.])"
      ]
     },
     "execution_count": 11,
     "metadata": {},
     "output_type": "execute_result"
    }
   ],
   "source": [
    "mnist.train.labels[1]"
   ]
  },
  {
   "cell_type": "code",
   "execution_count": 12,
   "metadata": {
    "collapsed": false
   },
   "outputs": [
    {
     "data": {
      "text/plain": [
       "3"
      ]
     },
     "execution_count": 12,
     "metadata": {},
     "output_type": "execute_result"
    }
   ],
   "source": [
    "np.argmax(mnist.train.labels[1])"
   ]
  },
  {
   "cell_type": "code",
   "execution_count": 13,
   "metadata": {
    "collapsed": false
   },
   "outputs": [],
   "source": [
    "x = tf.placeholder(tf.float32, [None, 784], name=\"X\") #不确定一次性处理多少条数据\n",
    "y = tf.placeholder(tf.float32, [None, 10], name=\"Y\")  #因为有10个标签，所以10列\n",
    " \n",
    "w = tf.Variable(tf.random_normal([784, 10]), name=\"W\")  #shape为（784，10）,10为得到的标签，random_normal生成平均为0，标准差为1的正态随机数\n",
    "b = tf.Variable(tf.zeros([10]),name=\"B\")  #生成10个0作为标签"
   ]
  },
  {
   "cell_type": "code",
   "execution_count": 14,
   "metadata": {
    "collapsed": true
   },
   "outputs": [],
   "source": [
    "forward = tf.matmul(x,w) + b #向前计算"
   ]
  },
  {
   "cell_type": "code",
   "execution_count": 15,
   "metadata": {
    "collapsed": true
   },
   "outputs": [],
   "source": [
    "pred = tf.nn.softmax(forward) #Softmax分类,进行归一化"
   ]
  },
  {
   "cell_type": "code",
   "execution_count": 16,
   "metadata": {
    "collapsed": true
   },
   "outputs": [],
   "source": [
    "#设置训练参数\n",
    "train_epochs = 100\n",
    "batch_size = 100  #单次训练样本数 \n",
    "total_batch = int(mnist.train.num_examples/batch_size)  #一轮训练有多少批次\n",
    "display_step = 1\n",
    "learning_rate = 0.01"
   ]
  },
  {
   "cell_type": "code",
   "execution_count": 17,
   "metadata": {
    "collapsed": false
   },
   "outputs": [],
   "source": [
    "loss_function = tf.reduce_mean(-tf.reduce_sum(y*tf.log(pred),reduction_indices=1))\n",
    "\n",
    "    #    array = np.array([[1,2,3],[4,5,6]])\n",
    "    #    with tf.Session() as sess:\n",
    "    #       print(sess.run(tf.reduce_sum(array, reduction_indices=0)))  按列求和\n",
    "    #       print(sess.run(tf.reduce_sum(array, reduction_indices=1)))  按行求和\n",
    "    #        \n",
    "    #    输出：  [ 6 15]\n",
    "    #            [5 7 9]\n",
    "    \n"
   ]
  },
  {
   "cell_type": "code",
   "execution_count": 18,
   "metadata": {
    "collapsed": true
   },
   "outputs": [],
   "source": [
    "optimizer = tf.train.GradientDescentOptimizer(learning_rate).minimize(loss_function)"
   ]
  },
  {
   "cell_type": "code",
   "execution_count": 19,
   "metadata": {
    "collapsed": false
   },
   "outputs": [],
   "source": [
    "#检查预测类别tf.argmax(pred, 1)与实际类别tf.argmax(y, 1)的匹配情况,计算精准度\n",
    "correct_prediction = tf.equal(tf.arg_max(pred, 1), tf.arg_max(y, 1))\n",
    "\n",
    "    #    arr=\n",
    "    #    [[1,2,3]\n",
    "    #     [3,2,1]\n",
    "    #     [4,7,2]\n",
    "    #     [8,3,2]]\n",
    "    #    tf.argemax(arr,0)  找出每列最大值，由行号显示[3,2,0]\n",
    "    #    tf.argemax(arr,1)  找出每行最大值，由列号显示[2,0,1,0]\n",
    "    #    tf.argemax(arr,-1) 最后一维度，行列，所以还是列，找出每行最大值，由列号显示[2,0,1,0]\n",
    "accuracy = tf.reduce_mean(tf.cast(correct_prediction,tf.float32)) #准确率，布尔值转化为浮点数，并计算平均值"
   ]
  },
  {
   "cell_type": "code",
   "execution_count": 20,
   "metadata": {
    "collapsed": true
   },
   "outputs": [],
   "source": [
    "sess = tf.Session()\n",
    "init = tf.global_variables_initializer()\n",
    "sess.run(init)"
   ]
  },
  {
   "cell_type": "code",
   "execution_count": 21,
   "metadata": {
    "collapsed": false,
    "scrolled": true
   },
   "outputs": [
    {
     "name": "stdout",
     "output_type": "stream",
     "text": [
      "Train Epoch: 01 loss= 5.112107277 Accuracy= 0.347\n",
      "Train Epoch: 02 loss= 3.339106560 Accuracy= 0.4736\n",
      "Train Epoch: 03 loss= 2.503149271 Accuracy= 0.5676\n",
      "Train Epoch: 04 loss= 2.049315214 Accuracy= 0.627\n",
      "Train Epoch: 05 loss= 1.765513301 Accuracy= 0.669\n",
      "Train Epoch: 06 loss= 1.578026295 Accuracy= 0.6986\n",
      "Train Epoch: 07 loss= 1.442036510 Accuracy= 0.7214\n",
      "Train Epoch: 08 loss= 1.342425823 Accuracy= 0.7392\n",
      "Train Epoch: 09 loss= 1.262563348 Accuracy= 0.7508\n",
      "Train Epoch: 10 loss= 1.198016405 Accuracy= 0.7602\n",
      "Train Epoch: 11 loss= 1.144278765 Accuracy= 0.771\n",
      "Train Epoch: 12 loss= 1.099654436 Accuracy= 0.7782\n",
      "Train Epoch: 13 loss= 1.059573889 Accuracy= 0.7834\n",
      "Train Epoch: 14 loss= 1.025410771 Accuracy= 0.7884\n",
      "Train Epoch: 15 loss= 0.995218158 Accuracy= 0.7956\n",
      "Train Epoch: 16 loss= 0.968298256 Accuracy= 0.8006\n",
      "Train Epoch: 17 loss= 0.943991423 Accuracy= 0.8046\n",
      "Train Epoch: 18 loss= 0.921034396 Accuracy= 0.807\n",
      "Train Epoch: 19 loss= 0.900495291 Accuracy= 0.8104\n",
      "Train Epoch: 20 loss= 0.882002175 Accuracy= 0.8134\n",
      "Train Epoch: 21 loss= 0.864709556 Accuracy= 0.8162\n",
      "Train Epoch: 22 loss= 0.848741770 Accuracy= 0.8192\n",
      "Train Epoch: 23 loss= 0.833829284 Accuracy= 0.8234\n",
      "Train Epoch: 24 loss= 0.819913864 Accuracy= 0.8256\n",
      "Train Epoch: 25 loss= 0.806912959 Accuracy= 0.829\n",
      "Train Epoch: 26 loss= 0.794751048 Accuracy= 0.8318\n",
      "Train Epoch: 27 loss= 0.783308148 Accuracy= 0.835\n",
      "Train Epoch: 28 loss= 0.772189677 Accuracy= 0.8374\n",
      "Train Epoch: 29 loss= 0.762379766 Accuracy= 0.8384\n",
      "Train Epoch: 30 loss= 0.752890646 Accuracy= 0.8394\n",
      "Train Epoch: 31 loss= 0.743780732 Accuracy= 0.8408\n",
      "Train Epoch: 32 loss= 0.734802723 Accuracy= 0.8434\n",
      "Train Epoch: 33 loss= 0.726468146 Accuracy= 0.845\n",
      "Train Epoch: 34 loss= 0.718663275 Accuracy= 0.8458\n",
      "Train Epoch: 35 loss= 0.711380601 Accuracy= 0.8484\n",
      "Train Epoch: 36 loss= 0.703665853 Accuracy= 0.8498\n",
      "Train Epoch: 37 loss= 0.696776330 Accuracy= 0.8514\n",
      "Train Epoch: 38 loss= 0.690387666 Accuracy= 0.8522\n",
      "Train Epoch: 39 loss= 0.683600128 Accuracy= 0.8532\n",
      "Train Epoch: 40 loss= 0.677536607 Accuracy= 0.8538\n",
      "Train Epoch: 41 loss= 0.671680450 Accuracy= 0.8544\n",
      "Train Epoch: 42 loss= 0.666271985 Accuracy= 0.856\n",
      "Train Epoch: 43 loss= 0.660907507 Accuracy= 0.8568\n",
      "Train Epoch: 44 loss= 0.655246079 Accuracy= 0.857\n",
      "Train Epoch: 45 loss= 0.650349438 Accuracy= 0.8576\n",
      "Train Epoch: 46 loss= 0.645447373 Accuracy= 0.8584\n",
      "Train Epoch: 47 loss= 0.640347362 Accuracy= 0.859\n",
      "Train Epoch: 48 loss= 0.635657787 Accuracy= 0.8582\n",
      "Train Epoch: 49 loss= 0.631042898 Accuracy= 0.8604\n",
      "Train Epoch: 50 loss= 0.627269804 Accuracy= 0.8608\n",
      "Train Epoch: 51 loss= 0.622677624 Accuracy= 0.8628\n",
      "Train Epoch: 52 loss= 0.618991137 Accuracy= 0.8624\n",
      "Train Epoch: 53 loss= 0.614646316 Accuracy= 0.8632\n",
      "Train Epoch: 54 loss= 0.610880554 Accuracy= 0.8628\n",
      "Train Epoch: 55 loss= 0.607118785 Accuracy= 0.8648\n",
      "Train Epoch: 56 loss= 0.603145480 Accuracy= 0.8654\n",
      "Train Epoch: 57 loss= 0.599893272 Accuracy= 0.8652\n",
      "Train Epoch: 58 loss= 0.596243322 Accuracy= 0.8654\n",
      "Train Epoch: 59 loss= 0.592925549 Accuracy= 0.8678\n",
      "Train Epoch: 60 loss= 0.589585006 Accuracy= 0.867\n",
      "Train Epoch: 61 loss= 0.586845636 Accuracy= 0.8688\n",
      "Train Epoch: 62 loss= 0.583653927 Accuracy= 0.8686\n",
      "Train Epoch: 63 loss= 0.580600441 Accuracy= 0.8692\n",
      "Train Epoch: 64 loss= 0.577696264 Accuracy= 0.8692\n",
      "Train Epoch: 65 loss= 0.574503064 Accuracy= 0.8696\n",
      "Train Epoch: 66 loss= 0.571902633 Accuracy= 0.8692\n",
      "Train Epoch: 67 loss= 0.569127917 Accuracy= 0.8708\n",
      "Train Epoch: 68 loss= 0.566296995 Accuracy= 0.8716\n",
      "Train Epoch: 69 loss= 0.563618362 Accuracy= 0.8718\n",
      "Train Epoch: 70 loss= 0.561068892 Accuracy= 0.8724\n",
      "Train Epoch: 71 loss= 0.558310926 Accuracy= 0.8722\n",
      "Train Epoch: 72 loss= 0.556052625 Accuracy= 0.8728\n",
      "Train Epoch: 73 loss= 0.553634524 Accuracy= 0.873\n",
      "Train Epoch: 74 loss= 0.551616192 Accuracy= 0.8728\n",
      "Train Epoch: 75 loss= 0.549273849 Accuracy= 0.8726\n",
      "Train Epoch: 76 loss= 0.546917379 Accuracy= 0.873\n",
      "Train Epoch: 77 loss= 0.544713259 Accuracy= 0.8738\n",
      "Train Epoch: 78 loss= 0.542685151 Accuracy= 0.874\n",
      "Train Epoch: 79 loss= 0.540444732 Accuracy= 0.8746\n",
      "Train Epoch: 80 loss= 0.538337588 Accuracy= 0.8752\n",
      "Train Epoch: 81 loss= 0.536638558 Accuracy= 0.876\n",
      "Train Epoch: 82 loss= 0.534550965 Accuracy= 0.8766\n",
      "Train Epoch: 83 loss= 0.532325029 Accuracy= 0.8764\n",
      "Train Epoch: 84 loss= 0.530064762 Accuracy= 0.8782\n",
      "Train Epoch: 85 loss= 0.528483212 Accuracy= 0.877\n",
      "Train Epoch: 86 loss= 0.526674628 Accuracy= 0.8776\n",
      "Train Epoch: 87 loss= 0.524844527 Accuracy= 0.8778\n",
      "Train Epoch: 88 loss= 0.522965908 Accuracy= 0.8778\n",
      "Train Epoch: 89 loss= 0.521149337 Accuracy= 0.8782\n",
      "Train Epoch: 90 loss= 0.519459069 Accuracy= 0.8784\n",
      "Train Epoch: 91 loss= 0.517942846 Accuracy= 0.8792\n",
      "Train Epoch: 92 loss= 0.516059160 Accuracy= 0.879\n",
      "Train Epoch: 93 loss= 0.514658868 Accuracy= 0.8792\n",
      "Train Epoch: 94 loss= 0.512796581 Accuracy= 0.8798\n",
      "Train Epoch: 95 loss= 0.511476398 Accuracy= 0.8798\n",
      "Train Epoch: 96 loss= 0.509894013 Accuracy= 0.8804\n",
      "Train Epoch: 97 loss= 0.508293867 Accuracy= 0.8808\n",
      "Train Epoch: 98 loss= 0.506964445 Accuracy= 0.8808\n",
      "Train Epoch: 99 loss= 0.505282402 Accuracy= 0.8812\n",
      "Train Epoch: 100 loss= 0.503835976 Accuracy= 0.8814\n",
      "Train Finished!\n"
     ]
    }
   ],
   "source": [
    "for epoch in range(train_epochs):\n",
    "    for batch in range(total_batch):\n",
    "        xs,ys = mnist.train.next_batch(batch_size)   #批量读取样本，xs图像的数据，ys标签的数据\n",
    "        sess.run(optimizer, feed_dict={x:xs, y:ys})\n",
    "        \n",
    "    loss,acc = sess.run([loss_function,accuracy],\n",
    "                       feed_dict={x:mnist.validation.images, y:mnist.validation.labels})\n",
    "    \n",
    "    if (epoch+1) % display_step == 0:\n",
    "        print(\"Train Epoch:\", '%02d'%(epoch+1), \"loss=\", \"{:.9f}\".format(loss),\n",
    "              \"Accuracy=\",\"{:.4}\".format(acc))\n",
    "print(\"Train Finished!\")"
   ]
  },
  {
   "cell_type": "code",
   "execution_count": 22,
   "metadata": {
    "collapsed": false
   },
   "outputs": [
    {
     "name": "stdout",
     "output_type": "stream",
     "text": [
      "Test Accuracy: 0.8765\n"
     ]
    }
   ],
   "source": [
    "accu_test = sess.run(accuracy, feed_dict={x:mnist.test.images, y:mnist.test.labels})\n",
    "print(\"Test Accuracy:\",accu_test)  #测试集上的准确率"
   ]
  },
  {
   "cell_type": "code",
   "execution_count": 23,
   "metadata": {
    "collapsed": false
   },
   "outputs": [
    {
     "name": "stdout",
     "output_type": "stream",
     "text": [
      "(10000, 784)\n"
     ]
    }
   ],
   "source": [
    "print(mnist.test.images.shape)"
   ]
  },
  {
   "cell_type": "code",
   "execution_count": 24,
   "metadata": {
    "collapsed": false
   },
   "outputs": [
    {
     "data": {
      "text/plain": [
       "array([7, 2, 1, 0, 4, 1, 4, 9, 6, 9], dtype=int64)"
      ]
     },
     "execution_count": 24,
     "metadata": {},
     "output_type": "execute_result"
    }
   ],
   "source": [
    "#应用预测\n",
    "prediction_result = sess.run(tf.argmax(pred,1),feed_dict={x:mnist.test.images})\n",
    "prediction_result[0:10]"
   ]
  },
  {
   "cell_type": "code",
   "execution_count": 25,
   "metadata": {
    "collapsed": false
   },
   "outputs": [
    {
     "data": {
      "image/png": "[encoded data removed]",
      "text/plain": [
       "<matplotlib.figure.Figure at 0x2c03ee55c50>"
      ]
     },
     "metadata": {},
     "output_type": "display_data"
    }
   ],
   "source": [
    "plot_image(mnist.test.images[8])"
   ]
  },
  {
   "cell_type": "code",
   "execution_count": 26,
   "metadata": {
    "collapsed": false
   },
   "outputs": [],
   "source": [
    "def plot_images_labels_prediction(images,     #图像列表\n",
    "                                 labels,     #标签列表\n",
    "                                 prediction, #预测值列表\n",
    "                                 index,      #从第index个开始显示\n",
    "                                 num=10):    #缺省一次显示10幅\n",
    "    fig = plt.gcf()   #获取当前图表，Get Current Figure\n",
    "    fig.set_size_inches(10,10) #定义显示图片宽和高，单位英寸2.54cm\n",
    "    if num > 25:  #设置最多显示25幅\n",
    "        num = 25\n",
    "    for i in range(0,num):\n",
    "        ax = plt.subplot(5,5,i+1) #获取当前要处理的子图,5行5列的显示\n",
    "        ax.imshow(np.reshape(images[index],(28,28)),cmap='binary') #显示第index个图像\n",
    "        \n",
    "        title = \"label=\" + str(np.argmax(labels[index]))  #构建label信息\n",
    "        if len(prediction)>0:\n",
    "            title += \",predict=\" + str(prediction[index])  #有预测值的话构建预测值\n",
    "            \n",
    "        ax.set_title(title,fontsize=10) #显示title信息（label and predict）\n",
    "        \n",
    "        ax.set_xticks([])  #不显示x轴，y轴数值\n",
    "        ax.set_yticks([])\n",
    "        \n",
    "        index += 1\n",
    "    plt.show()"
   ]
  },
  {
   "cell_type": "code",
   "execution_count": 27,
   "metadata": {
    "collapsed": false
   },
   "outputs": [
    {
     "data": {
      "image/png": "[encoded data removed]",
      "text/plain": [
       "<matplotlib.figure.Figure at 0x2c03eeba588>"
      ]
     },
     "metadata": {},
     "output_type": "display_data"
    }
   ],
   "source": [
    "plot_images_labels_prediction(mnist.test.images,\n",
    "                             mnist.test.labels,\n",
    "                             prediction_result,10,10)"
   ]
  }
 ],
 "metadata": {
  "anaconda-cloud": {},
  "kernelspec": {
   "display_name": "Python [conda root]",
   "language": "python",
   "name": "conda-root-py"
  },
  "language_info": {
   "codemirror_mode": {
    "name": "ipython",
    "version": 3
   },
   "file_extension": ".py",
   "mimetype": "text/x-python",
   "name": "python",
   "nbconvert_exporter": "python",
   "pygments_lexer": "ipython3",
   "version": "3.5.2"
  }
 },
 "nbformat": 4,
 "nbformat_minor": 1
}
